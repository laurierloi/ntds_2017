{
 "cells": [
  {
   "cell_type": "markdown",
   "metadata": {},
   "source": [
    "# Collect and Analyze a Twitter Network\n",
    "[Effrosyni Simou](http://lts4.epfl.ch/simou), *PhD Student*, [EPFL](http://epfl.ch) [LTS4](http://lts4.epfl.ch)"
   ]
  },
  {
   "cell_type": "markdown",
   "metadata": {},
   "source": [
    "# Objective of Exercise\n",
    "The aim of this exercise is to learn how to create your own, real network using data collected from the Internet and then to discover some properties of the collected network. "
   ]
  },
  {
   "cell_type": "markdown",
   "metadata": {},
   "source": [
    "# Resources\n",
    "You might want to have a look at the following resources before starting:\n",
    "\n",
    "* [Twitter REST API](https://dev.twitter.com/rest/public)\n",
    "* [Tweepy Documentation](http://tweepy.readthedocs.io/en/v3.5.0/)\n",
    "* [Tutorial \"Mining Twitter data with Python\"](https://marcobonzanini.com/2015/03/02/mining-twitter-data-with-python-part-1/)"
   ]
  },
  {
   "cell_type": "markdown",
   "metadata": {},
   "source": [
    "# 1. Collect a Twitter Network"
   ]
  },
  {
   "cell_type": "markdown",
   "metadata": {},
   "source": [
    "In order to collect data from Twitter you will need to generate access tokens.  To do this you will need to register a [client application with Twitter](https://apps.twitter.com/). Once you are done you should have your tokens. You can now create a `credentials.ini` file as follows:\n",
    "```\n",
    "[twitter]\n",
    "consumer_key = YOUR-CONSUMER-KEY\n",
    "consumer_secret = YOUR-CONSUMER-SECRET\n",
    "access_token = YOUR-ACCESS-TOKEN\n",
    "access_secret = YOUR-ACCESS-SECRET\n",
    "```\n",
    "In this way you will have this information readily available to you. "
   ]
  },
  {
   "cell_type": "code",
   "execution_count": 244,
   "metadata": {
    "ExecuteTime": {
     "end_time": "2017-10-15T21:36:52.312081Z",
     "start_time": "2017-10-15T21:36:52.305905Z"
    },
    "collapsed": true
   },
   "outputs": [],
   "source": [
    "%matplotlib inline\n",
    "\n",
    "import random\n",
    "import configparser\n",
    "import matplotlib.pyplot as plt\n",
    "import numpy as np\n",
    "import pandas as pd\n",
    "from pprint import pprint\n",
    "import tweepy  # you will need to install tweepy first\n",
    "# We want to visualize the network we create, to do so we will use networkx\n",
    "import networkx as nx # WARNING: Library not included in the standard notebook"
   ]
  },
  {
   "cell_type": "code",
   "execution_count": 209,
   "metadata": {
    "ExecuteTime": {
     "end_time": "2017-10-15T19:56:28.973591Z",
     "start_time": "2017-10-15T19:56:28.966048Z"
    },
    "collapsed": true
   },
   "outputs": [],
   "source": [
    "# Variable used to print degug information in this notebook\n",
    "DEBUG_INFO = True"
   ]
  },
  {
   "cell_type": "code",
   "execution_count": 210,
   "metadata": {
    "ExecuteTime": {
     "end_time": "2017-10-15T19:56:28.984388Z",
     "start_time": "2017-10-15T19:56:28.975009Z"
    },
    "collapsed": true
   },
   "outputs": [],
   "source": [
    "# Read the confidential token.\n",
    "credentials = configparser.ConfigParser()\n",
    "credentials.read('credentials.ini')\n",
    "\n",
    "#authentication\n",
    "auth = tweepy.OAuthHandler(credentials.get('twitter', 'consumer_key'), credentials.get('twitter', 'consumer_secret'))\n",
    "auth.set_access_token(credentials.get('twitter', 'access_token'), credentials.get('twitter', 'access_secret'))\n",
    "\n",
    "#construct API instance\n",
    "#deal with rate limits and notify when delayed because of rate limits\n",
    "api = tweepy.API(auth,wait_on_rate_limit=True, wait_on_rate_limit_notify=True)"
   ]
  },
  {
   "cell_type": "markdown",
   "metadata": {},
   "source": [
    "Now you are all set up to start collecting data from Twitter! "
   ]
  },
  {
   "cell_type": "markdown",
   "metadata": {},
   "source": [
    "In this exercise we will construct a network with the following logic:\n",
    "\n",
    "1) We will chose a `user_id` in Twitter to be our first node. \n",
    "\n",
    "2) We will find (some) of the users who are both following `user_id` and are being followed by `user_id`. From now on we will call such users \"connections\" of `user_id`. We will place these user ids in a list called `first_nodes`. \n",
    "\n",
    "3) For every node in the list `first_nodes` we will then find (some) of the users who are following and are being followed by this node (aka the connections of this node). The user ids collected in this step will be placed in a list called `second_nodes`.\n",
    "\n",
    "4) The collection of the ids of all nodes (aka Twitter users) that we have collected so far will be placed in a list called `all_nodes`.\n",
    "\n",
    "5) Since we have only collected a subset of all possible \"connections\" for our nodes we have to check if there are any remaining inner connections that we have missed.\n",
    "\n",
    "The entire network is to be organized in a dictionary with entries that will have as key the Twitter id of the user (this is a number characterizing each user in Twitter) and as value the list of ids of his connections.\n",
    "\n",
    "So, let us begin. The first thing that you will have to do is to chose the node from which everything will start. I have chosen the Twitter account of [Applied Machine Learning Days](https://www.appliedmldays.org) that will take place in January 2018 in EPFL. You may change that if you wish to, but please make sure that the user you chose has both followers and friends and that he allows you to access this data."
   ]
  },
  {
   "cell_type": "code",
   "execution_count": 211,
   "metadata": {
    "ExecuteTime": {
     "end_time": "2017-10-15T19:56:29.325686Z",
     "start_time": "2017-10-15T19:56:28.986386Z"
    },
    "collapsed": true
   },
   "outputs": [],
   "source": [
    "user = 'msf'\n",
    "user_id=api.get_user(user).id"
   ]
  },
  {
   "cell_type": "markdown",
   "metadata": {},
   "source": [
    "In the following cell write a function that takes as an argument the Twitter id of a user and returns a list with the **ids** of his connections. Take into account the case where a user does not allow you to access this information.\n",
    "\n",
    "**Reminder:** By connections we mean users that are both followers and friends of a given user."
   ]
  },
  {
   "cell_type": "code",
   "execution_count": 212,
   "metadata": {
    "ExecuteTime": {
     "end_time": "2017-10-15T19:56:29.342769Z",
     "start_time": "2017-10-15T19:56:29.327069Z"
    }
   },
   "outputs": [],
   "source": [
    "def find_connections(user_id,nbr_of_pages=1):\n",
    "    followers = []\n",
    "    friends=[]\n",
    "    try:\n",
    "        for part_friends in tweepy.Cursor(api.friends_ids, id=user_id).pages(nbr_of_pages):\n",
    "            friends.extend(part_friends)\n",
    "        for part_followers in tweepy.Cursor(api.followers_ids, id=user_id).pages(nbr_of_pages):\n",
    "            followers.extend(part_followers)\n",
    "    except tweepy.TweepError as e:\n",
    "        # Manage errors from the tweepy API. We simply print the error information\n",
    "        print(\"Error while finding connections!\\n\\tReason:\",\n",
    "              \"{}\\n\\tResponse: {}\\n\\tAPI Code: {}\".format(e.reason, e.response, e.api_code))\n",
    "        return []\n",
    "    else:\n",
    "        connections = np.intersect1d(friends, followers)\n",
    "        # Print some debug information related to the s\n",
    "        if DEBUG_INFO:\n",
    "            print(\"{} has {} connections from {} friends and {} followers when using {} pages\".format(\n",
    "                user_id, len(connections), len(friends), len(followers), nbr_of_pages)\n",
    "                 )\n",
    "        return connections"
   ]
  },
  {
   "cell_type": "code",
   "execution_count": 213,
   "metadata": {
    "ExecuteTime": {
     "end_time": "2017-10-15T19:56:32.637605Z",
     "start_time": "2017-10-15T19:56:29.343932Z"
    }
   },
   "outputs": [
    {
     "name": "stdout",
     "output_type": "stream",
     "text": [
      "2195671183 has 112 connections from 1215 friends and 50000 followers when using 10 pages\n",
      "msfhas 112 connections\n"
     ]
    }
   ],
   "source": [
    "# Change the value of nbr_of_pages to obtain more friends_ids and followers_ids\n",
    "# Warning : If the page number is too high, we will run into rate limitation!\n",
    "# Note: If this nbr_of_pages is not high enough, we might miss connections in\n",
    "#       in the subsequent checks. Though, this will only happen for very large\n",
    "#       following (1 page = 5000 followers). We accept this tradeoff to actually\n",
    "#       get data in a reasonable time\n",
    "nbr_of_pages=10\n",
    "first_connections=find_connections(user_id,nbr_of_pages)\n",
    "print('{}has {} connections'.format(user, len(first_connections)))"
   ]
  },
  {
   "cell_type": "code",
   "execution_count": 214,
   "metadata": {
    "ExecuteTime": {
     "end_time": "2017-10-15T19:56:32.644134Z",
     "start_time": "2017-10-15T19:56:32.639820Z"
    }
   },
   "outputs": [
    {
     "name": "stdout",
     "output_type": "stream",
     "text": [
      "[           8220122           11351772           15719971\n",
      "           16834046           19177501           20433037\n",
      "           20504947           20588986           20838866\n",
      "           21303235           21835209           24908307\n",
      "           25999480           26786894           31809636\n",
      "           39219494           39483072           43075399\n",
      "           51978298           61638283           73149690\n",
      "           73617824           77485114           97219875\n",
      "          105862849          109589216          111664235\n",
      "          113398253          117180358          131896078\n",
      "          138505765          191821461          215966785\n",
      "          227459248          230169472          243851678\n",
      "          247445228          252555813          260160888\n",
      "          260288018          278992923          300759553\n",
      "          305426621          375787968          391380430\n",
      "          394103111          394326921          406433649\n",
      "          459236731          488570234          529350142\n",
      "          555926298          581425520          602646287\n",
      "          820894273          856587308          953834312\n",
      "         1114253449         1147684742         1225554312\n",
      "         1287799686         1412226816         1653364448\n",
      "         1855550948         1969148101         2169510360\n",
      "         2174027330         2316418723         2321891696\n",
      "         2401220294         2401248378         2467727930\n",
      "         2513048622         2516174552         2535776912\n",
      "         2638981651         2937510192         3036153299\n",
      "         3241856500         3268828141         3292752266\n",
      "         3373274937         3377641523         3385937043\n",
      "         3481997835         3545038337         3624124337\n",
      "         3668450056         3739573452         3971676977\n",
      "         4482679463 710092124407111680 713768886806712320\n",
      " 722050011538857984 731542740530540545 733002203733065728\n",
      " 740569801207250944 741180202999386112 750216409553264644\n",
      " 776189565946195968 782107727896141824 784351656355897344\n",
      " 786537369373585408 806116484695162880 809756465871331328\n",
      " 819116890278817793 821677842085842945 829749063922876419\n",
      " 850311866668785664 863000586693873664 875658499186929664\n",
      " 904725709377167360]\n"
     ]
    }
   ],
   "source": [
    "print(first_connections)"
   ]
  },
  {
   "cell_type": "markdown",
   "metadata": {},
   "source": [
    "Collect your `first_nodes` and `second_nodes` and organize your collected nodes and their connections in the dictionary called `network`."
   ]
  },
  {
   "cell_type": "markdown",
   "metadata": {},
   "source": [
    "Hints:\n",
    "* Use `random.choice([1,3,4])` to randomly choose a number in `[1, 3, 4]`.\n",
    "* Use the `append` and `remove` methods to add and remove an element from a Python list.\n",
    "* The `pop` method removes the last item in the list."
   ]
  },
  {
   "cell_type": "code",
   "execution_count": 215,
   "metadata": {
    "ExecuteTime": {
     "end_time": "2017-10-15T19:56:32.654252Z",
     "start_time": "2017-10-15T19:56:32.646331Z"
    }
   },
   "outputs": [],
   "source": [
    "network={}\n",
    " # Keep track of every connections and not only the ones in the network\n",
    " # This is a big optimization with regard to twitter api calls   \n",
    "connections_dict={}\n",
    "first_nodes=[]\n",
    "second_nodes=[]\n",
    "how_many=20 #This is the number of connections you are sampling. \n",
    "            #Keep small (e.g.3) for development, larger later (e.g. 10)\n",
    "first_nodes=np.random.choice(first_connections, size=how_many,replace=False)"
   ]
  },
  {
   "cell_type": "markdown",
   "metadata": {},
   "source": [
    "**Be careful!** You should only keep a small value for the `how_many` parameter while you are developing your code. In order to answer to the questions you should raise the value of this parameter to `how_many=10` at least. This will take a while to execute because of the API rate limit (plan your time accordingly). You should also remember to submit your jupyter notebook with the **output shown for a large value of the `how_many` parameter**. "
   ]
  },
  {
   "cell_type": "code",
   "execution_count": 216,
   "metadata": {
    "ExecuteTime": {
     "end_time": "2017-10-15T19:56:32.667443Z",
     "start_time": "2017-10-15T19:56:32.656623Z"
    },
    "collapsed": true
   },
   "outputs": [],
   "source": [
    "network[user_id] = first_nodes\n",
    "connections_dict[user_id] = first_connections"
   ]
  },
  {
   "cell_type": "code",
   "execution_count": 220,
   "metadata": {
    "ExecuteTime": {
     "end_time": "2017-10-15T21:01:00.285845Z",
     "start_time": "2017-10-15T21:01:00.277203Z"
    }
   },
   "outputs": [
    {
     "name": "stdout",
     "output_type": "stream",
     "text": [
      "{21303235: array([         364947550,          193139845, 811229675758505984,\n",
      "                 31138458,          339167120,          171553499,\n",
      "               2755624355,          128797906,         3027577229,\n",
      "               1946493157,           12594872,         1592812808,\n",
      "                 15982558,           25495787,           16145473,\n",
      "                369907191,           17650854,           44734487,\n",
      "                412101247,         2414093978,         2195671183]),\n",
      " 24908307: array([          25495787, 790214798675968000,          132117893,\n",
      "                 17774661,         1223916560,         2457852176,\n",
      "                945307062,          958634641,           17093617,\n",
      "                 14755286,           17467699,           14755379,\n",
      "                 60914314,          130643590,            8515342,\n",
      "                 27643435,           57683930, 788349702194552832,\n",
      "                 81131370,           31809636,         2195671183]),\n",
      " 25999480: array([ 561524975, 1430665740,  275502488,  769767943,   19233462,\n",
      "       1410948991,   18240896,  525196117,  247782571,  432432569,\n",
      "         19523359,   14755399, 3163284887, 1590554431,   69546480,\n",
      "        468893308,   26489325,   24292112,   23988532,   14755217,\n",
      "       2195671183]),\n",
      " 51978298: array([  21942706,  256015042,   53032561,  258194479,  617853961,\n",
      "        118197944,   45510215,   43312677,  260741575,  209176493,\n",
      "        350156378,  177554833,  267769846,   88544654,  352143631,\n",
      "        343755621,  183221516,   39171398,   41088384,   97405238,\n",
      "       2195671183]),\n",
      " 77485114: array([2280533594,   57683930,  178476302,  150578679,   89437716,\n",
      "         17467699,   84098615,   39773339,  924150745,  830193134,\n",
      "         14341323,  555363539,  155836313, 2599606616,   85289376,\n",
      "       2320961065, 2170999954,  298955697,   14755189,   14755165,\n",
      "       2195671183]),\n",
      " 113398253: array([         241066528,          190220007, 733291998724149248,\n",
      "                 72318165,         1964246702, 870216254300270593,\n",
      "                 18578222,           58918768,          252136117,\n",
      "               2872456893,         2969265719, 886949050381209600,\n",
      "                448762725,         3390961821,          313437992,\n",
      "                350359445,           17615294,           47100958,\n",
      "       751362663473610757,         2755183484,         2195671183]),\n",
      " 300759553: array([ 356025552, 2283703615,  267923653,   16150448,   34981206,\n",
      "         14755217,  115936653,  238647999,  150212592,   69573102,\n",
      "         25495787,   24292112,  308291618,  311356816, 1553956729,\n",
      "         60914314,   34206409,  433522185, 1097722766, 2361151212,\n",
      "       2195671183]),\n",
      " 529350142: array([  47793869,  299524455,   53160027, 1852511136,  828123961,\n",
      "        481543642,  377859783,  349615775,   44591575,   60407673,\n",
      "       2663772143,  634599390,  564323390,  435117842,   46110433,\n",
      "        103364463,  295969282, 2873649274,  104227735,  377122077,\n",
      "       2195671183]),\n",
      " 953834312: array([  10796602,  496494231,   83357624,  548686483,   46346573,\n",
      "        115195175,  334744976,   42338767,   78897171, 2653303938,\n",
      "        267923653,   82913660,  453893556,   20137622,  505720676,\n",
      "        383954318,   88639095, 1100983555,  186771732,  312924023,\n",
      "       2195671183]),\n",
      " 2195671183: array([          77485114,           24908307,         2937510192,\n",
      "                953834312,           25999480,          300759553,\n",
      "               2401220294,          113398253,          529350142,\n",
      "                 51978298, 809756465871331328,           21303235,\n",
      "               3385937043, 850311866668785664,         2467727930,\n",
      "                 20588986,          131896078, 776189565946195968,\n",
      "       713768886806712320,            8220122]),\n",
      " 2401220294: array([1970658666,  872056664,  273411506,  375267544,  523074459,\n",
      "        741056137,   14047971,  304949376,  636945261,   81725851,\n",
      "        562844425,  353427229,   22741326,  301462733,  375505878,\n",
      "        859431936,  278103726,    7137782, 1633013286,  588304378,\n",
      "       2195671183]),\n",
      " 2937510192: array([         264138630,         2617457600,          416269699,\n",
      "               1454076122,           19488823,          100206755,\n",
      "                329437733,         1477479463,          186338394,\n",
      "                 35561234,          989085162,         3347067880,\n",
      "                873066841,         2267235260,          415625837,\n",
      "       911694820984393728,         2880849657,           78060290,\n",
      "               3008786863,          265307435,         2195671183]),\n",
      " 3385937043: array([         313390086,          239783773,         4348559007,\n",
      "       766075003276328961,           26766861,           15292919,\n",
      "                487196539,           73175043,         4484129530,\n",
      "                 31185845,          230859250, 711299341403684864,\n",
      "                    48093,           17840374,         2805551232,\n",
      "               2190120602,           14306931, 754615394594357249,\n",
      "               1683466044,          264119009,         2195671183]),\n",
      " 809756465871331328: array([  14755217, 1709422687,   25495787,   39049894,   14755189,\n",
      "        571561129,  382901866, 2841775467, 3068630488,  989802145,\n",
      "       2256654462, 2680095373, 2806234714, 2827590346,   95215125,\n",
      "         22615697, 1588455552,  311356816,  126288915,  872056664,\n",
      "       2195671183])}\n"
     ]
    }
   ],
   "source": [
    "pprint(network)"
   ]
  },
  {
   "cell_type": "markdown",
   "metadata": {},
   "source": [
    "Lets find the connections of the second nodes"
   ]
  },
  {
   "cell_type": "code",
   "execution_count": 222,
   "metadata": {
    "ExecuteTime": {
     "end_time": "2017-10-15T21:30:43.168521Z",
     "start_time": "2017-10-15T21:08:03.399248Z"
    }
   },
   "outputs": [
    {
     "name": "stdout",
     "output_type": "stream",
     "text": [
      "77485114 has 64 connections from 131 friends and 3562 followers when using 10 pages\n",
      "24908307 has 77 connections from 172 friends and 6715 followers when using 10 pages\n",
      "2937510192 has 27 connections from 93 friends and 42 followers when using 10 pages\n",
      "953834312 has 64 connections from 215 friends and 122 followers when using 10 pages\n",
      "25999480 has 96 connections from 394 friends and 218 followers when using 10 pages\n",
      "300759553 has 122 connections from 145 friends and 201 followers when using 10 pages\n",
      "2401220294 has 175 connections from 430 friends and 469 followers when using 10 pages\n",
      "Rate limit reached. Sleeping for: 434\n",
      "113398253 has 423 connections from 4928 friends and 50000 followers when using 10 pages\n",
      "529350142 has 294 connections from 874 friends and 955 followers when using 10 pages\n",
      "51978298 has 188 connections from 521 friends and 18827 followers when using 10 pages\n",
      "809756465871331328 has 38 connections from 1007 friends and 136 followers when using 10 pages\n",
      "Rate limit reached. Sleeping for: 893\n",
      "21303235 has 22 connections from 1190 friends and 50000 followers when using 10 pages\n",
      "3385937043 has 295 connections from 1052 friends and 1611 followers when using 10 pages\n",
      "850311866668785664 has 5 connections from 11 friends and 5 followers when using 10 pages\n",
      "2467727930 has 166 connections from 477 friends and 440 followers when using 10 pages\n",
      "20588986 has 3 connections from 15 friends and 17 followers when using 10 pages\n",
      "Error while finding connections!\n",
      "\tReason: Not authorized.\n",
      "\tResponse: <Response [401]>\n",
      "\tAPI Code: None\n",
      "776189565946195968 has 59 connections from 381 friends and 245 followers when using 10 pages\n",
      "713768886806712320 has 721 connections from 4925 friends and 1276 followers when using 10 pages\n",
      "8220122 has 628 connections from 908 friends and 14792 followers when using 10 pages\n"
     ]
    }
   ],
   "source": [
    "# Loop over the nodes that are linked to the user_id\n",
    "# The goal is to find second nodes for each of those nodes\n",
    "# And to populate both the second_nodes array and the network dict\n",
    "for node in first_nodes:\n",
    "    # try/except/else for the case where the argument to np.random.choice is bad.\n",
    "    # It happens when the node doesn't allow us to check for its connections\n",
    "    try:\n",
    "        found_connections = find_connections(node,nbr_of_pages)\n",
    "    except:\n",
    "        print(\"The connections for node {} could not be gathered\".format(node))\n",
    "        network[node] = []\n",
    "        connections_dict[node] = []\n",
    "    else:\n",
    "        # If there's not enough found connections...\n",
    "        try:\n",
    "            connections_to_add = np.random.choice(found_connections, size=how_many, replace=False)\n",
    "        # Add as many as possible\n",
    "        except:\n",
    "            connections_to_add = found_connections\n",
    "        # Avoid having user_id as a second level connection\n",
    "        # We just remove it from the array in this case\n",
    "        if user_id in connections_to_add:\n",
    "            index_to_del = np.where(connections_to_add == user_id)\n",
    "            connections_to_add = np.delete(connections_to_add, index_to_del)\n",
    "        second_nodes.extend(connections_to_add)\n",
    "        # Add the source node and the connections nodes\n",
    "        network[node] = np.append(connections_to_add, user_id)\n",
    "        connections_dict[node] = found_connections"
   ]
  },
  {
   "cell_type": "code",
   "execution_count": 234,
   "metadata": {
    "ExecuteTime": {
     "end_time": "2017-10-15T21:35:46.391723Z",
     "start_time": "2017-10-15T21:35:46.389593Z"
    },
    "run_control": {
     "marked": false
    }
   },
   "outputs": [],
   "source": [
    "all_nodes=np.concatenate((first_nodes, second_nodes))"
   ]
  },
  {
   "cell_type": "code",
   "execution_count": 235,
   "metadata": {
    "ExecuteTime": {
     "end_time": "2017-10-15T21:35:47.668857Z",
     "start_time": "2017-10-15T21:35:47.663577Z"
    }
   },
   "outputs": [
    {
     "name": "stdout",
     "output_type": "stream",
     "text": [
      "There are 20 first hop nodes\n",
      "There are 599 second hop nodes\n",
      "There are overall 619 nodes in the collected network\n"
     ]
    }
   ],
   "source": [
    "print('There are {} first hop nodes'.format(len(first_nodes)))\n",
    "print('There are {} second hop nodes'.format(len(second_nodes)))\n",
    "print('There are overall {} nodes in the collected network'.format(len(all_nodes)))"
   ]
  },
  {
   "cell_type": "code",
   "execution_count": 236,
   "metadata": {
    "ExecuteTime": {
     "end_time": "2017-10-15T21:35:49.059241Z",
     "start_time": "2017-10-15T21:35:49.056405Z"
    }
   },
   "outputs": [],
   "source": [
    "for i in second_nodes:\n",
    "    network[i]=[]\n",
    "    connections_dict[i]=[]"
   ]
  },
  {
   "cell_type": "markdown",
   "metadata": {},
   "source": [
    "Find the inner connections between your collected nodes that you might have missed because you sampled the connections."
   ]
  },
  {
   "cell_type": "code",
   "execution_count": 237,
   "metadata": {
    "ExecuteTime": {
     "end_time": "2017-10-15T21:35:51.320839Z",
     "start_time": "2017-10-15T21:35:51.303799Z"
    }
   },
   "outputs": [],
   "source": [
    "def should_add_node_as_connection(source, target):\n",
    "    \"\"\"This function take a source node and a target node and says if they are connections\n",
    "        It assumes the dictionnary \"network\" has been declared in the environment\n",
    "    \"\"\"\n",
    "    # Check for various cases\n",
    "    # 1) it is source\n",
    "    if target == source:\n",
    "        return False\n",
    "    # 2) it is already a connection of source\n",
    "    elif target in network[source]:\n",
    "        return False\n",
    "    # 3) Check if we have the required information in the small dict\n",
    "    elif source in network[target]:\n",
    "        return True\n",
    "    # 4) Otherwise use the connections dict\n",
    "    elif source in connections_dict[target]:\n",
    "        return True\n",
    "    elif target in connections_dict[source]:\n",
    "        return True\n",
    "    else:\n",
    "        return False"
   ]
  },
  {
   "cell_type": "code",
   "execution_count": 238,
   "metadata": {
    "ExecuteTime": {
     "end_time": "2017-10-15T21:35:53.407250Z",
     "start_time": "2017-10-15T21:35:53.306155Z"
    }
   },
   "outputs": [
    {
     "name": "stdout",
     "output_type": "stream",
     "text": [
      "{48093: [],\n",
      " 7137782: [],\n",
      " 8220122: array([  10722752,  261232011,   66320467,   34357036,  255377355,\n",
      "          8752562,   14316614,  376134640, 3384551488,   34361745,\n",
      "         55896553,  479076506,  386373619,   73529539,   19993635,\n",
      "         14569462,  319288489,  301998990,   25811993, 2238185864,\n",
      "       2195671183]),\n",
      " 8515342: [],\n",
      " 8752562: [],\n",
      " 10722752: [],\n",
      " 10796602: [],\n",
      " 12048252: [],\n",
      " 12594872: [],\n",
      " 13006932: [],\n",
      " 14047971: [],\n",
      " 14306931: [],\n",
      " 14316614: [],\n",
      " 14341323: [],\n",
      " 14569462: [],\n",
      " 14755165: [],\n",
      " 14755189: [],\n",
      " 14755217: [],\n",
      " 14755286: [],\n",
      " 14755334: [],\n",
      " 14755379: [],\n",
      " 14755399: [],\n",
      " 14755475: [],\n",
      " 14755492: [],\n",
      " 14904469: [],\n",
      " 15292919: [],\n",
      " 15351267: [],\n",
      " 15622428: [],\n",
      " 15722740: [],\n",
      " 15982558: [],\n",
      " 16145473: [],\n",
      " 16150448: [],\n",
      " 16463397: [],\n",
      " 16714896: [],\n",
      " 17093617: [],\n",
      " 17467699: [],\n",
      " 17615294: [],\n",
      " 17650854: [],\n",
      " 17774661: [],\n",
      " 17840374: [],\n",
      " 18216250: [],\n",
      " 18240896: [],\n",
      " 18578222: [],\n",
      " 18697423: [],\n",
      " 19233462: [],\n",
      " 19488823: [],\n",
      " 19523359: [],\n",
      " 19993635: [],\n",
      " 20137622: [],\n",
      " 20228233: [],\n",
      " 20357820: [],\n",
      " 20588986: array([ 230169472, 2977856595, 2195671183]),\n",
      " 21303235: array([2414093978,  412101247,   17650854,  369907191,   12594872,\n",
      "       1946493157,   15982558, 3027577229,  339167120, 1592812808,\n",
      "         16145473,  364947550,  128797906, 2755624355,   44734487,\n",
      "        193139845,   25495787,   18216250,  292203151,   31138458,\n",
      "       2195671183]),\n",
      " 21469205: [],\n",
      " 21667065: [],\n",
      " 21942706: [],\n",
      " 22615697: [],\n",
      " 22741326: [],\n",
      " 22897009: [],\n",
      " 23988532: [],\n",
      " 23997140: [],\n",
      " 24292112: [],\n",
      " 24840047: [],\n",
      " 24896038: [],\n",
      " 24908307: array([         452848045, 785916632581439488,         2457852176,\n",
      "               3163284887,            8515342,          958634641,\n",
      "                 81131370,          119365565,           17467699,\n",
      "                 14755286,           21667065,          123997800,\n",
      "                 14755492,          272829031,          105461596,\n",
      "                 14755399,          945307062,           33933259,\n",
      "                 14755475,          123535230,         2195671183]),\n",
      " 25495787: [],\n",
      " 25811993: [],\n",
      " 25999480: array([ 561524975, 1341913327, 1430665740,  526819809,   29944729,\n",
      "         77318444,   23988532, 1442298883,   14755475,   18240896,\n",
      "         48288861,   24896038,  307332105,   14755165,   69546480,\n",
      "        592490041,   78955161,  833326135, 2606778615,  626815215,\n",
      "       2195671183]),\n",
      " 26489325: [],\n",
      " 26766861: [],\n",
      " 27643435: [],\n",
      " 28215308: [],\n",
      " 29944729: [],\n",
      " 31138458: [],\n",
      " 31185845: [],\n",
      " 31809636: [],\n",
      " 31957479: [],\n",
      " 33933259: [],\n",
      " 34206409: [],\n",
      " 34357036: [],\n",
      " 34361745: [],\n",
      " 34981206: [],\n",
      " 35459052: [],\n",
      " 35561234: [],\n",
      " 35685989: [],\n",
      " 36174013: [],\n",
      " 36652064: [],\n",
      " 39049894: [],\n",
      " 39171398: [],\n",
      " 39773339: [],\n",
      " 40833020: [],\n",
      " 41088384: [],\n",
      " 41795707: [],\n",
      " 42338767: [],\n",
      " 42662716: [],\n",
      " 42863816: [],\n",
      " 43312677: [],\n",
      " 44591575: [],\n",
      " 44734487: [],\n",
      " 45510215: [],\n",
      " 46110433: [],\n",
      " 46346573: [],\n",
      " 46354264: [],\n",
      " 47100958: [],\n",
      " 47399805: [],\n",
      " 47793869: [],\n",
      " 48110420: [],\n",
      " 48135013: [],\n",
      " 48288861: [],\n",
      " 48978946: [],\n",
      " 49894779: [],\n",
      " 50378381: [],\n",
      " 50633074: [],\n",
      " 51978298: array([750958250510737408,           24840047,           13006932,\n",
      "                 55191191,         2346524875,           28215308,\n",
      "                132731802,           21469205,         1199485980,\n",
      "                129181096,           14755492,           18697423,\n",
      "                412887287,           70281455,           16714896,\n",
      "                 50633074,          221584601,           31957479,\n",
      "                 16463397,         2195671183]),\n",
      " 53032561: [],\n",
      " 53160027: [],\n",
      " 55191191: [],\n",
      " 55896553: [],\n",
      " 56329376: [],\n",
      " 57007756: [],\n",
      " 57683930: [],\n",
      " 58255649: [],\n",
      " 58918768: [],\n",
      " 59314899: [],\n",
      " 59501750: [],\n",
      " 60407673: [],\n",
      " 60914314: [],\n",
      " 62969120: [],\n",
      " 66320467: [],\n",
      " 66818668: [],\n",
      " 69546480: [],\n",
      " 69573102: [],\n",
      " 70281455: [],\n",
      " 72318165: [],\n",
      " 73175043: [],\n",
      " 73529539: [],\n",
      " 77318444: [],\n",
      " 77485114: array([          14755379,          475038078,         1509592296,\n",
      "               2767714211,           17467699,          126288915,\n",
      "                 39773339,           14755334, 710382189905649664,\n",
      "                 49894779,           57007756,           14755475,\n",
      "               2280533594,           14904469,          265307435,\n",
      "               2320961065,         2457852176,         2599606616,\n",
      "                298955697,         2195671183]),\n",
      " 78060290: [],\n",
      " 78897171: [],\n",
      " 78955161: [],\n",
      " 81131370: [],\n",
      " 81725851: [],\n",
      " 82913660: [],\n",
      " 83357624: [],\n",
      " 84098615: [],\n",
      " 85289376: [],\n",
      " 88522397: [],\n",
      " 88544654: [],\n",
      " 88639095: [],\n",
      " 89431845: [],\n",
      " 89437716: [],\n",
      " 89768117: [],\n",
      " 95215125: [],\n",
      " 97405238: [],\n",
      " 100206755: [],\n",
      " 103364463: [],\n",
      " 104227735: [],\n",
      " 105461596: [],\n",
      " 107376768: [],\n",
      " 107998331: [],\n",
      " 113398253: array([          35459052,           48978946, 886949050381209600,\n",
      "       755881737201254400,          410948302,         2251689488,\n",
      "                 47399805,         3401268443,          311880926,\n",
      "               1536938744, 887977407063482368,         1673426923,\n",
      "                260926865,           88522397, 709745446185521152,\n",
      "                 58255649, 839065638614274048,          330627295,\n",
      "                262592073,           18578222,         2195671183]),\n",
      " 115195175: [],\n",
      " 115936653: [],\n",
      " 118197944: [],\n",
      " 119365565: [],\n",
      " 123535230: [],\n",
      " 123997800: [],\n",
      " 125427022: [],\n",
      " 126288915: [],\n",
      " 128797906: [],\n",
      " 129181096: [],\n",
      " 130643590: [],\n",
      " 131896078: array([  2.19567118e+09]),\n",
      " 132117893: [],\n",
      " 132731802: [],\n",
      " 138704918: [],\n",
      " 150212592: [],\n",
      " 150578679: [],\n",
      " 155836313: [],\n",
      " 159162599: [],\n",
      " 171553499: [],\n",
      " 175737279: [],\n",
      " 177554833: [],\n",
      " 178476302: [],\n",
      " 183221516: [],\n",
      " 186104486: [],\n",
      " 186338394: [],\n",
      " 186771732: [],\n",
      " 190220007: [],\n",
      " 191224958: [],\n",
      " 193139845: [],\n",
      " 198774419: [],\n",
      " 205404727: [],\n",
      " 208447030: [],\n",
      " 209176493: [],\n",
      " 217472777: [],\n",
      " 221584601: [],\n",
      " 226706523: [],\n",
      " 229227311: [],\n",
      " 230169472: [],\n",
      " 230859250: [],\n",
      " 234703990: [],\n",
      " 237319178: [],\n",
      " 238647999: [],\n",
      " 239783773: [],\n",
      " 240849010: [],\n",
      " 241066528: [],\n",
      " 247782571: [],\n",
      " 248548381: [],\n",
      " 252136117: [],\n",
      " 255232158: [],\n",
      " 255377355: [],\n",
      " 256015042: [],\n",
      " 258194479: [],\n",
      " 260741575: [],\n",
      " 260926865: [],\n",
      " 261232011: [],\n",
      " 262592073: [],\n",
      " 264104767: [],\n",
      " 264119009: [],\n",
      " 264138630: [],\n",
      " 265307435: [],\n",
      " 267769846: [],\n",
      " 267923653: [],\n",
      " 272829031: [],\n",
      " 273411506: [],\n",
      " 275228642: [],\n",
      " 275502488: [],\n",
      " 275584723: [],\n",
      " 278103726: [],\n",
      " 282243141: [],\n",
      " 285207489: [],\n",
      " 292203151: [],\n",
      " 295969282: [],\n",
      " 296306967: [],\n",
      " 298955697: [],\n",
      " 299524455: [],\n",
      " 299738875: [],\n",
      " 300759553: array([         387755961,           60914314,         2177736728,\n",
      "                510711354,          255232158,          264104767,\n",
      "                420330286,          282243141, 701782666933379072,\n",
      "                 24292112,         1374228818,          572921926,\n",
      "                527118870,         1596234600,         1095419575,\n",
      "                299738875,           56329376,          226706523,\n",
      "                126288915,          367633184,         2195671183]),\n",
      " 301462733: [],\n",
      " 301574758: [],\n",
      " 301998990: [],\n",
      " 304949376: [],\n",
      " 307332105: [],\n",
      " 308291618: [],\n",
      " 311356816: [],\n",
      " 311880926: [],\n",
      " 312924023: [],\n",
      " 312981051: [],\n",
      " 313390086: [],\n",
      " 313437992: [],\n",
      " 319288489: [],\n",
      " 322216282: [],\n",
      " 327569338: [],\n",
      " 329437733: [],\n",
      " 330627295: [],\n",
      " 334744976: [],\n",
      " 339167120: [],\n",
      " 340316107: [],\n",
      " 343755621: [],\n",
      " 349615775: [],\n",
      " 350060624: [],\n",
      " 350156378: [],\n",
      " 350359445: [],\n",
      " 352143631: [],\n",
      " 353427229: [],\n",
      " 356025552: [],\n",
      " 362420555: [],\n",
      " 364947550: [],\n",
      " 367633184: [],\n",
      " 369907191: [],\n",
      " 375267544: [],\n",
      " 375505878: [],\n",
      " 376134640: [],\n",
      " 376962219: [],\n",
      " 377122077: [],\n",
      " 377859783: [],\n",
      " 379010920: [],\n",
      " 382901866: [],\n",
      " 383954318: [],\n",
      " 384319742: [],\n",
      " 386373619: [],\n",
      " 386732636: [],\n",
      " 387755961: [],\n",
      " 396125874: [],\n",
      " 410948302: [],\n",
      " 411213396: [],\n",
      " 412101247: [],\n",
      " 412887287: [],\n",
      " 415406337: [],\n",
      " 415625837: [],\n",
      " 416269699: [],\n",
      " 420330286: [],\n",
      " 430117833: [],\n",
      " 432432569: [],\n",
      " 433522185: [],\n",
      " 435117842: [],\n",
      " 438292978: [],\n",
      " 440170995: [],\n",
      " 442922429: [],\n",
      " 448762725: [],\n",
      " 452848045: [],\n",
      " 453893556: [],\n",
      " 462446622: [],\n",
      " 468259904: [],\n",
      " 468893308: [],\n",
      " 475038078: [],\n",
      " 479076506: [],\n",
      " 481543642: [],\n",
      " 487196539: [],\n",
      " 496494231: [],\n",
      " 496897649: [],\n",
      " 505720676: [],\n",
      " 510711354: [],\n",
      " 523074459: [],\n",
      " 525196117: [],\n",
      " 526819809: [],\n",
      " 527118870: [],\n",
      " 529350142: array([ 468259904, 1842596053,  540339382,  555363539,   18240896,\n",
      "       3011013785,   23997140, 2799798919,  234703990, 2751585907,\n",
      "        217472777, 2436923130,  442922429,  322216282,   25495787,\n",
      "        552282851,  350060624,   42863816,  208447030,  438292978,\n",
      "       2195671183]),\n",
      " 531523403: [],\n",
      " 540339382: [],\n",
      " 548686483: [],\n",
      " 552282851: [],\n",
      " 555363539: [],\n",
      " 561524975: [],\n",
      " 562844425: [],\n",
      " 564323390: [],\n",
      " 567756902: [],\n",
      " 571561129: [],\n",
      " 572921926: [],\n",
      " 576959788: [],\n",
      " 587876512: [],\n",
      " 588304378: [],\n",
      " 592490041: [],\n",
      " 596457544: [],\n",
      " 603724114: [],\n",
      " 617853961: [],\n",
      " 626815215: [],\n",
      " 634599390: [],\n",
      " 636945261: [],\n",
      " 719350401: [],\n",
      " 741056137: [],\n",
      " 763213562: [],\n",
      " 769767943: [],\n",
      " 810672787: [],\n",
      " 819467034: [],\n",
      " 828123961: [],\n",
      " 830193134: [],\n",
      " 833326135: [],\n",
      " 845207282: [],\n",
      " 859431936: [],\n",
      " 872056664: [],\n",
      " 873066841: [],\n",
      " 898058054: [],\n",
      " 924150745: [],\n",
      " 943289430: [],\n",
      " 945307062: [],\n",
      " 945960175: [],\n",
      " 953834312: [],\n",
      " 958634641: [],\n",
      " 972802519: [],\n",
      " 989085162: [],\n",
      " 989802145: [],\n",
      " 1095419575: [],\n",
      " 1097722544: [],\n",
      " 1097722766: [],\n",
      " 1100983555: [],\n",
      " 1116469614: [],\n",
      " 1199485980: [],\n",
      " 1223916560: [],\n",
      " 1341913327: [],\n",
      " 1344356983: [],\n",
      " 1374228818: [],\n",
      " 1410948991: [],\n",
      " 1424986688: [],\n",
      " 1430665740: [],\n",
      " 1442298883: [],\n",
      " 1454076122: [],\n",
      " 1477479463: [],\n",
      " 1509592296: [],\n",
      " 1528158793: [],\n",
      " 1536938744: [],\n",
      " 1544819407: [],\n",
      " 1553956729: [],\n",
      " 1588455552: [],\n",
      " 1590554431: [],\n",
      " 1592812808: [],\n",
      " 1596234600: [],\n",
      " 1621504831: [],\n",
      " 1633013286: [],\n",
      " 1673426923: [],\n",
      " 1683466044: [],\n",
      " 1709422687: [],\n",
      " 1842596053: [],\n",
      " 1852511136: [],\n",
      " 1946493157: [],\n",
      " 1964246702: [],\n",
      " 1970658666: [],\n",
      " 2170999954: [],\n",
      " 2177736728: [],\n",
      " 2190120602: [],\n",
      " 2195671183: array([          77485114,           24908307,         2937510192,\n",
      "                953834312,           25999480,          300759553,\n",
      "               2401220294,          113398253,          529350142,\n",
      "                 51978298, 809756465871331328,           21303235,\n",
      "               3385937043, 850311866668785664,         2467727930,\n",
      "                 20588986,          131896078, 776189565946195968,\n",
      "       713768886806712320,            8220122]),\n",
      " 2238185864: [],\n",
      " 2242329745: [],\n",
      " 2243712318: [],\n",
      " 2251689488: [],\n",
      " 2256654462: [],\n",
      " 2267235260: [],\n",
      " 2280533594: [],\n",
      " 2283703615: [],\n",
      " 2320961065: [],\n",
      " 2346524875: [],\n",
      " 2361151212: [],\n",
      " 2384326501: [],\n",
      " 2401220294: array([         198774419,           41795707,         3413135361,\n",
      "                275228642,          859431936,          945960175,\n",
      "                125427022, 876739630258954240,         2401251043,\n",
      "                191224958,          353427229,          205404727,\n",
      "                411213396,          384319742,          296306967,\n",
      "                311356816,          396125874,          240849010,\n",
      "                362420555,         2195671183]),\n",
      " 2401251043: [],\n",
      " 2414093978: [],\n",
      " 2436923130: [],\n",
      " 2457852176: [],\n",
      " 2467727930: array([         138704918,          440170995,          340316107,\n",
      "                972802519,         1097722544,         1116469614,\n",
      "                 89431845,          943289430, 796034340975214592,\n",
      "                159162599,         3019968435,          237319178,\n",
      "                 62969120,           36652064,           48135013,\n",
      "               2864016687,          107998331,           48110420,\n",
      "               2243712318,          819467034,         2195671183]),\n",
      " 2599606616: [],\n",
      " 2606778615: [],\n",
      " 2617457600: [],\n",
      " 2636651671: [],\n",
      " 2644306341: [],\n",
      " 2653303938: [],\n",
      " 2663772143: [],\n",
      " 2665446013: [],\n",
      " 2680095373: [],\n",
      " 2751585907: [],\n",
      " 2755183484: [],\n",
      " 2755624355: [],\n",
      " 2767714211: [],\n",
      " 2793038619: [],\n",
      " 2795941059: [],\n",
      " 2799798919: [],\n",
      " 2805551232: [],\n",
      " 2806234714: [],\n",
      " 2827590346: [],\n",
      " 2841775467: [],\n",
      " 2864016687: [],\n",
      " 2872456893: [],\n",
      " 2873649274: [],\n",
      " 2880849657: [],\n",
      " 2937510192: array([         100206755,           19488823,         2617457600,\n",
      "               3008786863,         1477479463,          265307435,\n",
      "                763213562,         2880849657, 911694820984393728,\n",
      "                264138630,          989085162,         1544819407,\n",
      "               2939229387,           35561234,         2267235260,\n",
      "               2793038619,          186338394,           59314899,\n",
      "               3347067880,         2195671183]),\n",
      " 2939229387: [],\n",
      " 2969265719: [],\n",
      " 2977856595: [],\n",
      " 3008786863: [],\n",
      " 3011013785: [],\n",
      " 3019968435: [],\n",
      " 3023304436: [],\n",
      " 3027577229: [],\n",
      " 3068630488: [],\n",
      " 3163284887: [],\n",
      " 3347067880: [],\n",
      " 3384551488: [],\n",
      " 3385937043: array([         596457544, 717408747534966784,          229227311,\n",
      "                 89768117,          327569338,         1528158793,\n",
      "                898058054,         2795941059, 731401195215040512,\n",
      "       747099890749214720,           12048252,         4764565500,\n",
      "               3387381802,          312981051,         4890458235,\n",
      "                567756902,         2827590346, 753919907348246528,\n",
      "               1683466044,          531523403,         2195671183]),\n",
      " 3387381802: [],\n",
      " 3390961821: [],\n",
      " 3401268443: [],\n",
      " 3413135361: [],\n",
      " 3439331974: [],\n",
      " 3450537616: [],\n",
      " 3899277509: [],\n",
      " 3901657042: [],\n",
      " 3971676977: [],\n",
      " 4348559007: [],\n",
      " 4484129530: [],\n",
      " 4764565500: [],\n",
      " 4890458235: [],\n",
      " 701782666933379072: [],\n",
      " 709745446185521152: [],\n",
      " 710382189905649664: [],\n",
      " 711299341403684864: [],\n",
      " 713768886806712320: array([        1621504831,          462446622,          415406337,\n",
      "       772536586164666372,           66818668,           42662716,\n",
      "                 59501750,           35685989,           15722740,\n",
      "               3439331974,         2644306341,           20228233,\n",
      "                186104486,         3901657042,         3899277509,\n",
      "       801035783998160896,          175737279, 818234229121314822,\n",
      "       720710572489224193,         2195671183]),\n",
      " 717408747534966784: [],\n",
      " 720710572489224193: [],\n",
      " 722759387031478272: [],\n",
      " 731401195215040512: [],\n",
      " 733291998724149248: [],\n",
      " 747099890749214720: [],\n",
      " 750958250510737408: [],\n",
      " 751362663473610757: [],\n",
      " 753919907348246528: [],\n",
      " 754615394594357249: [],\n",
      " 755881737201254400: [],\n",
      " 766075003276328961: [],\n",
      " 772536586164666372: [],\n",
      " 776189565946195968: array([  57683930, 2665446013,   14755189,   25495787, 2384326501,\n",
      "       1424986688,   22897009,  379010920,  603724114, 3971676977,\n",
      "         15351267, 2170999954,  386732636,  810672787,  576959788,\n",
      "        275584723,  953834312,  587876512,   40833020, 2636651671,\n",
      "       2195671183]),\n",
      " 785916632581439488: [],\n",
      " 788349702194552832: [],\n",
      " 790214798675968000: [],\n",
      " 796034340975214592: [],\n",
      " 801035783998160896: [],\n",
      " 809756465871331328: array([  22615697, 2242329745,   50378381,  382901866, 1709422687,\n",
      "         46354264,  376962219,   39049894,  285207489,  301574758,\n",
      "         14755379,  386732636,   14755217,   95215125, 2680095373,\n",
      "        571561129, 2827590346,   14755334,  126288915, 2195671183]),\n",
      " 811229675758505984: [],\n",
      " 818234229121314822: [],\n",
      " 839065638614274048: [],\n",
      " 850311866668785664: array([  36174013,   39773339, 3023304436, 3450537616, 2195671183]),\n",
      " 870216254300270593: [],\n",
      " 875046281588224000: [],\n",
      " 876739630258954240: [],\n",
      " 886949050381209600: [],\n",
      " 887977407063482368: [],\n",
      " 911694820984393728: []}\n"
     ]
    }
   ],
   "source": [
    "pprint(network)"
   ]
  },
  {
   "cell_type": "code",
   "execution_count": 258,
   "metadata": {
    "ExecuteTime": {
     "end_time": "2017-10-15T21:52:18.333781Z",
     "start_time": "2017-10-15T21:52:16.827478Z"
    }
   },
   "outputs": [],
   "source": [
    "# Source node for connection comparison\n",
    "for node in all_nodes:\n",
    "    nodes_to_add = [target for target in all_nodes if should_add_node_as_connection(node, target)]\n",
    "    network[node] = np.union1d(network[node], nodes_to_add)"
   ]
  },
  {
   "cell_type": "code",
   "execution_count": 259,
   "metadata": {
    "ExecuteTime": {
     "end_time": "2017-10-15T21:52:23.224683Z",
     "start_time": "2017-10-15T21:52:23.046088Z"
    }
   },
   "outputs": [
    {
     "name": "stdout",
     "output_type": "stream",
     "text": [
      "{48093: array([  3.38593704e+09]),\n",
      " 7137782: array([  2.40122029e+09]),\n",
      " 8220122: array([  8.75256200e+06,   1.07227520e+07,   1.43166140e+07,\n",
      "         1.45694620e+07,   1.99936350e+07,   2.58119930e+07,\n",
      "         3.43570360e+07,   3.43617450e+07,   5.58965530e+07,\n",
      "         6.63204670e+07,   7.35295390e+07,   2.55377355e+08,\n",
      "         2.61232011e+08,   3.01998990e+08,   3.19288489e+08,\n",
      "         3.76134640e+08,   3.86373619e+08,   4.79076506e+08,\n",
      "         2.19567118e+09,   2.23818586e+09,   3.16328489e+09,\n",
      "         3.38455149e+09]),\n",
      " 8515342: array([ 24908307.,  77485114.]),\n",
      " 8752562: array([ 8220122.]),\n",
      " 10722752: array([ 8220122.]),\n",
      " 10796602: array([], dtype=float64),\n",
      " 12048252: array([  3.38593704e+09]),\n",
      " 12594872: array([ 21303235.]),\n",
      " 13006932: array([ 51978298.]),\n",
      " 14047971: array([  2.40122029e+09]),\n",
      " 14306931: array([  3.38593704e+09]),\n",
      " 14316614: array([ 8220122.]),\n",
      " 14341323: array([  2.59994800e+07,   7.74851140e+07,   7.76189566e+17]),\n",
      " 14569462: array([ 8220122.]),\n",
      " 14755165: array([ 25999480.,  77485114.]),\n",
      " 14755189: array([  7.74851140e+07,   7.76189566e+17,   8.09756466e+17]),\n",
      " 14755217: array([  2.59994800e+07,   7.74851140e+07,   3.00759553e+08,\n",
      "         5.29350142e+08,   8.09756466e+17]),\n",
      " 14755286: array([ 24908307.,  77485114.]),\n",
      " 14755334: array([  2.49083070e+07,   7.74851140e+07,   8.09756466e+17]),\n",
      " 14755379: array([  2.49083070e+07,   7.74851140e+07,   8.09756466e+17]),\n",
      " 14755399: array([  2.49083070e+07,   2.59994800e+07,   7.76189566e+17]),\n",
      " 14755475: array([  2.49083070e+07,   2.59994800e+07,   7.74851140e+07,\n",
      "         5.29350142e+08,   7.13768887e+17]),\n",
      " 14755492: array([  2.49083070e+07,   5.19782980e+07,   7.74851140e+07,\n",
      "         7.13768887e+17]),\n",
      " 14904469: array([ 24908307.,  77485114.]),\n",
      " 15292919: array([  3.38593704e+09]),\n",
      " 15351267: array([  7.76189566e+17]),\n",
      " 15622428: array([], dtype=float64),\n",
      " 15722740: array([  7.13768887e+17]),\n",
      " 15982558: array([ 21303235.]),\n",
      " 16145473: array([ 21303235.]),\n",
      " 16150448: array([  3.00759553e+08]),\n",
      " 16463397: array([ 51978298.]),\n",
      " 16714896: array([ 51978298.]),\n",
      " 17093617: array([ 24908307.]),\n",
      " 17467699: array([ 24908307.,  77485114.]),\n",
      " 17615294: array([  1.13398253e+08]),\n",
      " 17650854: array([ 21303235.]),\n",
      " 17774661: array([  2.49083070e+07,   7.13768887e+17,   7.76189566e+17]),\n",
      " 17840374: array([  3.38593704e+09]),\n",
      " 18216250: array([ 21303235.]),\n",
      " 18240896: array([  2.49083070e+07,   2.59994800e+07,   7.74851140e+07,\n",
      "         5.29350142e+08]),\n",
      " 18578222: array([  1.13398253e+08]),\n",
      " 18697423: array([ 51978298.]),\n",
      " 19233462: array([ 25999480.]),\n",
      " 19488823: array([  2.93751019e+09]),\n",
      " 19523359: array([ 25999480.]),\n",
      " 19993635: array([ 8220122.]),\n",
      " 20137622: array([], dtype=float64),\n",
      " 20228233: array([  7.13768887e+17]),\n",
      " 20357820: array([], dtype=float64),\n",
      " 20588986: array([  2.30169472e+08,   2.19567118e+09,   2.97785660e+09]),\n",
      " 21303235: array([  1.25948720e+07,   1.59825580e+07,   1.61454730e+07,\n",
      "         1.76508540e+07,   1.82162500e+07,   2.54957870e+07,\n",
      "         3.11384580e+07,   4.47344870e+07,   1.28797906e+08,\n",
      "         1.71553499e+08,   1.93139845e+08,   2.92203151e+08,\n",
      "         3.39167120e+08,   3.64947550e+08,   3.69907191e+08,\n",
      "         4.12101247e+08,   1.59281281e+09,   1.94649316e+09,\n",
      "         2.19567118e+09,   2.41409398e+09,   2.75562436e+09,\n",
      "         3.02757723e+09,   8.11229676e+17]),\n",
      " 21469205: array([ 51978298.]),\n",
      " 21667065: array([  2.49083070e+07,   2.40122029e+09]),\n",
      " 21942706: array([ 51978298.]),\n",
      " 22615697: array([  8.09756466e+17]),\n",
      " 22741326: array([  2.40122029e+09]),\n",
      " 22897009: array([  7.76189566e+17]),\n",
      " 23988532: array([ 25999480.]),\n",
      " 23997140: array([  7.74851140e+07,   5.29350142e+08]),\n",
      " 24292112: array([  2.59994800e+07,   3.00759553e+08,   5.29350142e+08,\n",
      "         7.76189566e+17]),\n",
      " 24840047: array([ 51978298.]),\n",
      " 24896038: array([ 24908307.,  25999480.]),\n",
      " 24908307: array([  8.51534200e+06,   1.47552860e+07,   1.47553340e+07,\n",
      "         1.47553790e+07,   1.47553990e+07,   1.47554750e+07,\n",
      "         1.47554920e+07,   1.49044690e+07,   1.70936170e+07,\n",
      "         1.74676990e+07,   1.77746610e+07,   1.82408960e+07,\n",
      "         2.16670650e+07,   2.48960380e+07,   2.54957870e+07,\n",
      "         2.76434350e+07,   3.18096360e+07,   3.39332590e+07,\n",
      "         3.97733390e+07,   5.76839300e+07,   6.09143140e+07,\n",
      "         8.11313700e+07,   1.05461596e+08,   1.19365565e+08,\n",
      "         1.23535230e+08,   1.23997800e+08,   1.26288915e+08,\n",
      "         1.30643590e+08,   1.32117893e+08,   2.72829031e+08,\n",
      "         4.52848045e+08,   9.45307062e+08,   9.58634641e+08,\n",
      "         1.22391656e+09,   1.42498669e+09,   2.19567118e+09,\n",
      "         2.45785218e+09,   3.16328489e+09,   7.85916633e+17,\n",
      "         7.88349702e+17,   7.90214799e+17]),\n",
      " 25495787: array([  2.13032350e+07,   2.49083070e+07,   1.13398253e+08,\n",
      "         3.00759553e+08,   5.29350142e+08,   7.76189566e+17,\n",
      "         8.09756466e+17]),\n",
      " 25811993: array([ 8220122.]),\n",
      " 25999480: array([  1.43413230e+07,   1.47551650e+07,   1.47552170e+07,\n",
      "         1.47553990e+07,   1.47554750e+07,   1.82408960e+07,\n",
      "         1.92334620e+07,   1.95233590e+07,   2.39885320e+07,\n",
      "         2.42921120e+07,   2.48960380e+07,   2.64893250e+07,\n",
      "         2.99447290e+07,   3.49812060e+07,   4.82888610e+07,\n",
      "         5.31600270e+07,   6.95464800e+07,   7.73184440e+07,\n",
      "         7.89551610e+07,   2.47782571e+08,   2.75502488e+08,\n",
      "         3.07332105e+08,   3.11356816e+08,   4.32432569e+08,\n",
      "         4.68893308e+08,   5.25196117e+08,   5.26819809e+08,\n",
      "         5.61524975e+08,   5.92490041e+08,   6.26815215e+08,\n",
      "         7.69767943e+08,   8.33326135e+08,   1.34191333e+09,\n",
      "         1.41094899e+09,   1.43066574e+09,   1.44229888e+09,\n",
      "         1.59055443e+09,   2.19567118e+09,   2.60677862e+09,\n",
      "         3.16328489e+09]),\n",
      " 26489325: array([ 25999480.]),\n",
      " 26766861: array([  3.38593704e+09]),\n",
      " 27643435: array([ 24908307.]),\n",
      " 28215308: array([ 51978298.]),\n",
      " 29944729: array([ 25999480.]),\n",
      " 31138458: array([ 21303235.]),\n",
      " 31185845: array([  3.38593704e+09]),\n",
      " 31809636: array([ 24908307.]),\n",
      " 31957479: array([ 51978298.]),\n",
      " 33933259: array([ 24908307.]),\n",
      " 34206409: array([  3.00759553e+08,   5.29350142e+08,   7.13768887e+17,\n",
      "         7.76189566e+17]),\n",
      " 34357036: array([ 8220122.]),\n",
      " 34361745: array([ 8220122.]),\n",
      " 34981206: array([  2.59994800e+07,   3.00759553e+08]),\n",
      " 35459052: array([  1.13398253e+08]),\n",
      " 35561234: array([  2.93751019e+09]),\n",
      " 35685989: array([  7.13768887e+17]),\n",
      " 36174013: array([  8.50311867e+17]),\n",
      " 36652064: array([  2.46772793e+09]),\n",
      " 39049894: array([  7.13768887e+17,   7.76189566e+17,   8.09756466e+17]),\n",
      " 39171398: array([ 51978298.]),\n",
      " 39773339: array([  2.49083070e+07,   7.74851140e+07,   2.46772793e+09,\n",
      "         8.50311867e+17]),\n",
      " 40833020: array([  7.76189566e+17]),\n",
      " 41088384: array([ 51978298.]),\n",
      " 41795707: array([  2.40122029e+09]),\n",
      " 42338767: array([], dtype=float64),\n",
      " 42662716: array([  7.13768887e+17]),\n",
      " 42863816: array([  5.29350142e+08]),\n",
      " 43312677: array([ 51978298.]),\n",
      " 44591575: array([  5.29350142e+08]),\n",
      " 44734487: array([ 21303235.]),\n",
      " 45510215: array([ 51978298.]),\n",
      " 46110433: array([  5.29350142e+08]),\n",
      " 46346573: array([], dtype=float64),\n",
      " 46354264: array([  8.09756466e+17]),\n",
      " 47100958: array([  1.13398253e+08]),\n",
      " 47399805: array([  1.13398253e+08]),\n",
      " 47793869: array([  5.29350142e+08]),\n",
      " 48110420: array([  2.46772793e+09]),\n",
      " 48135013: array([  2.46772793e+09]),\n",
      " 48288861: array([ 25999480.]),\n",
      " 48978946: array([  1.13398253e+08]),\n",
      " 49894779: array([ 77485114.]),\n",
      " 50378381: array([  5.29350142e+08,   8.09756466e+17]),\n",
      " 50633074: array([ 51978298.]),\n",
      " 51978298: array([  1.30069320e+07,   1.47554920e+07,   1.64633970e+07,\n",
      "         1.67148960e+07,   1.86974230e+07,   2.14692050e+07,\n",
      "         2.19427060e+07,   2.48400470e+07,   2.82153080e+07,\n",
      "         3.19574790e+07,   3.91713980e+07,   4.10883840e+07,\n",
      "         4.33126770e+07,   4.55102150e+07,   5.06330740e+07,\n",
      "         5.30325610e+07,   5.51911910e+07,   7.02814550e+07,\n",
      "         8.85446540e+07,   9.74052380e+07,   1.18197944e+08,\n",
      "         1.29181096e+08,   1.32731802e+08,   1.77554833e+08,\n",
      "         1.83221516e+08,   2.09176493e+08,   2.21584601e+08,\n",
      "         2.56015042e+08,   2.58194479e+08,   2.60741575e+08,\n",
      "         2.67769846e+08,   3.43755621e+08,   3.50156378e+08,\n",
      "         3.52143631e+08,   4.12887287e+08,   6.17853961e+08,\n",
      "         1.19948598e+09,   2.19567118e+09,   2.34652488e+09,\n",
      "         7.50958251e+17]),\n",
      " 53032561: array([ 51978298.]),\n",
      " 53160027: array([  2.59994800e+07,   5.29350142e+08,   7.13768887e+17]),\n",
      " 55191191: array([ 51978298.]),\n",
      " 55896553: array([ 8220122.]),\n",
      " 56329376: array([  3.00759553e+08]),\n",
      " 57007756: array([ 77485114.]),\n",
      " 57683930: array([  2.49083070e+07,   7.74851140e+07,   7.76189566e+17]),\n",
      " 58255649: array([  1.13398253e+08]),\n",
      " 58918768: array([  1.13398253e+08]),\n",
      " 59314899: array([  2.93751019e+09]),\n",
      " 59501750: array([  7.13768887e+17]),\n",
      " 60407673: array([  5.29350142e+08]),\n",
      " 60914314: array([  2.49083070e+07,   3.00759553e+08]),\n",
      " 62969120: array([  2.46772793e+09]),\n",
      " 66320467: array([ 8220122.]),\n",
      " 66818668: array([  7.13768887e+17]),\n",
      " 69546480: array([ 25999480.]),\n",
      " 69573102: array([  3.00759553e+08]),\n",
      " 70281455: array([ 51978298.]),\n",
      " 72318165: array([  1.13398253e+08]),\n",
      " 73175043: array([  3.38593704e+09]),\n",
      " 73529539: array([ 8220122.]),\n",
      " 77318444: array([ 25999480.]),\n",
      " 77485114: array([  8.51534200e+06,   1.43413230e+07,   1.47551650e+07,\n",
      "         1.47551890e+07,   1.47552170e+07,   1.47552860e+07,\n",
      "         1.47553340e+07,   1.47553790e+07,   1.47554750e+07,\n",
      "         1.47554920e+07,   1.49044690e+07,   1.74676990e+07,\n",
      "         1.82408960e+07,   2.39971400e+07,   3.97733390e+07,\n",
      "         4.98947790e+07,   5.70077560e+07,   5.76839300e+07,\n",
      "         8.40986150e+07,   8.52893760e+07,   8.94377160e+07,\n",
      "         1.26288915e+08,   1.50578679e+08,   1.55836313e+08,\n",
      "         1.78476302e+08,   2.65307435e+08,   2.98955697e+08,\n",
      "         4.75038078e+08,   5.55363539e+08,   7.19350401e+08,\n",
      "         8.30193134e+08,   9.24150745e+08,   1.42498669e+09,\n",
      "         1.50959230e+09,   2.17099995e+09,   2.19567118e+09,\n",
      "         2.28053359e+09,   2.32096106e+09,   2.45785218e+09,\n",
      "         2.59960662e+09,   2.75158591e+09,   2.76771421e+09,\n",
      "         3.16328489e+09,   3.97167698e+09,   7.10382190e+17]),\n",
      " 78060290: array([  2.93751019e+09]),\n",
      " 78897171: array([], dtype=float64),\n",
      " 78955161: array([ 25999480.]),\n",
      " 81131370: array([ 24908307.]),\n",
      " 81725851: array([  2.40122029e+09]),\n",
      " 82913660: array([], dtype=float64),\n",
      " 83357624: array([], dtype=float64),\n",
      " 84098615: array([  7.74851140e+07,   2.40122029e+09]),\n",
      " 85289376: array([ 77485114.]),\n",
      " 88522397: array([  1.13398253e+08]),\n",
      " 88544654: array([ 51978298.]),\n",
      " 88639095: array([], dtype=float64),\n",
      " 89431845: array([  2.46772793e+09]),\n",
      " 89437716: array([ 77485114.]),\n",
      " 89768117: array([  3.38593704e+09]),\n",
      " 95215125: array([  8.09756466e+17]),\n",
      " 97405238: array([ 51978298.]),\n",
      " 100206755: array([  2.93751019e+09]),\n",
      " 103364463: array([  5.29350142e+08]),\n",
      " 104227735: array([  5.29350142e+08]),\n",
      " 105461596: array([ 24908307.]),\n",
      " 107376768: array([], dtype=float64),\n",
      " 107998331: array([  2.46772793e+09]),\n",
      " 113398253: array([  1.76152940e+07,   1.85782220e+07,   2.54957870e+07,\n",
      "         3.54590520e+07,   4.71009580e+07,   4.73998050e+07,\n",
      "         4.89789460e+07,   5.82556490e+07,   5.89187680e+07,\n",
      "         7.23181650e+07,   8.85223970e+07,   1.26288915e+08,\n",
      "         1.90220007e+08,   2.41066528e+08,   2.52136117e+08,\n",
      "         2.60926865e+08,   2.62592073e+08,   3.00759553e+08,\n",
      "         3.11880926e+08,   3.13437992e+08,   3.30627295e+08,\n",
      "         3.50359445e+08,   4.10948302e+08,   4.48762725e+08,\n",
      "         1.42498669e+09,   1.53693874e+09,   1.67342692e+09,\n",
      "         1.96424670e+09,   2.19567118e+09,   2.25168949e+09,\n",
      "         2.75518348e+09,   2.87245689e+09,   2.96926572e+09,\n",
      "         3.16328489e+09,   3.39096182e+09,   3.40126844e+09,\n",
      "         7.09745446e+17,   7.33291999e+17,   7.51362663e+17,\n",
      "         7.55881737e+17,   8.39065639e+17,   8.70216254e+17,\n",
      "         8.86949050e+17,   8.87977407e+17]),\n",
      " 115195175: array([], dtype=float64),\n",
      " 115936653: array([  3.00759553e+08,   5.29350142e+08]),\n",
      " 118197944: array([ 51978298.]),\n",
      " 119365565: array([  2.49083070e+07,   3.00759553e+08]),\n",
      " 123535230: array([ 24908307.]),\n",
      " 123997800: array([ 24908307.]),\n",
      " 125427022: array([  2.40122029e+09]),\n",
      " 126288915: array([  2.49083070e+07,   7.74851140e+07,   1.13398253e+08,\n",
      "         3.00759553e+08,   8.09756466e+17]),\n",
      " 128797906: array([ 21303235.]),\n",
      " 129181096: array([ 51978298.]),\n",
      " 130643590: array([ 24908307.]),\n",
      " 131896078: array([  2.19567118e+09]),\n",
      " 132117893: array([ 24908307.]),\n",
      " 132731802: array([ 51978298.]),\n",
      " 138704918: array([  2.46772793e+09]),\n",
      " 150212592: array([  3.00759553e+08]),\n",
      " 150578679: array([ 77485114.]),\n",
      " 155836313: array([ 77485114.]),\n",
      " 159162599: array([  2.46772793e+09]),\n",
      " 171553499: array([ 21303235.]),\n",
      " 175737279: array([  7.13768887e+17]),\n",
      " 177554833: array([ 51978298.]),\n",
      " 178476302: array([ 77485114.]),\n",
      " 183221516: array([ 51978298.]),\n",
      " 186104486: array([  7.13768887e+17]),\n",
      " 186338394: array([  2.93751019e+09]),\n",
      " 186771732: array([], dtype=float64),\n",
      " 190220007: array([  1.13398253e+08]),\n",
      " 191224958: array([  2.40122029e+09]),\n",
      " 193139845: array([ 21303235.]),\n",
      " 198774419: array([  2.40122029e+09]),\n",
      " 205404727: array([  2.40122029e+09]),\n",
      " 208447030: array([  5.29350142e+08]),\n",
      " 209176493: array([ 51978298.]),\n",
      " 217472777: array([  5.29350142e+08]),\n",
      " 221584601: array([ 51978298.]),\n",
      " 226706523: array([  3.00759553e+08]),\n",
      " 229227311: array([  3.38593704e+09]),\n",
      " 230169472: array([ 20588986.]),\n",
      " 230859250: array([  3.38593704e+09]),\n",
      " 234703990: array([  5.29350142e+08]),\n",
      " 237319178: array([  2.46772793e+09]),\n",
      " 238647999: array([  3.00759553e+08]),\n",
      " 239783773: array([  3.38593704e+09]),\n",
      " 240849010: array([  2.40122029e+09]),\n",
      " 241066528: array([  1.13398253e+08]),\n",
      " 247782571: array([ 25999480.]),\n",
      " 248548381: array([], dtype=float64),\n",
      " 252136117: array([  1.13398253e+08]),\n",
      " 255232158: array([  3.00759553e+08]),\n",
      " 255377355: array([ 8220122.]),\n",
      " 256015042: array([ 51978298.]),\n",
      " 258194479: array([ 51978298.]),\n",
      " 260741575: array([ 51978298.]),\n",
      " 260926865: array([  1.13398253e+08]),\n",
      " 261232011: array([ 8220122.]),\n",
      " 262592073: array([  1.13398253e+08]),\n",
      " 264104767: array([  3.00759553e+08]),\n",
      " 264119009: array([  3.38593704e+09]),\n",
      " 264138630: array([  2.93751019e+09]),\n",
      " 265307435: array([  7.74851140e+07,   2.93751019e+09]),\n",
      " 267769846: array([ 51978298.]),\n",
      " 267923653: array([  3.00759553e+08]),\n",
      " 272829031: array([ 24908307.]),\n",
      " 273411506: array([  2.40122029e+09]),\n",
      " 275228642: array([  2.40122029e+09]),\n",
      " 275502488: array([ 25999480.]),\n",
      " 275584723: array([  7.76189566e+17]),\n",
      " 278103726: array([  2.40122029e+09]),\n",
      " 282243141: array([  3.00759553e+08]),\n",
      " 285207489: array([  8.09756466e+17]),\n",
      " 292203151: array([ 21303235.]),\n",
      " 295969282: array([  5.29350142e+08]),\n",
      " 296306967: array([  2.40122029e+09]),\n",
      " 298955697: array([ 77485114.]),\n",
      " 299524455: array([  5.29350142e+08]),\n",
      " 299738875: array([  3.00759553e+08]),\n",
      " 300759553: array([  1.47552170e+07,   1.61504480e+07,   2.42921120e+07,\n",
      "         2.54957870e+07,   3.42064090e+07,   3.49812060e+07,\n",
      "         5.63293760e+07,   6.09143140e+07,   6.95731020e+07,\n",
      "         1.13398253e+08,   1.15936653e+08,   1.19365565e+08,\n",
      "         1.26288915e+08,   1.50212592e+08,   2.26706523e+08,\n",
      "         2.38647999e+08,   2.55232158e+08,   2.64104767e+08,\n",
      "         2.67923653e+08,   2.82243141e+08,   2.99738875e+08,\n",
      "         3.08291618e+08,   3.11356816e+08,   3.56025552e+08,\n",
      "         3.67633184e+08,   3.87755961e+08,   4.20330286e+08,\n",
      "         4.32432569e+08,   4.33522185e+08,   4.38292978e+08,\n",
      "         5.10711354e+08,   5.27118870e+08,   5.61524975e+08,\n",
      "         5.72921926e+08,   7.19350401e+08,   1.09541958e+09,\n",
      "         1.09772277e+09,   1.10098356e+09,   1.37422882e+09,\n",
      "         1.41094899e+09,   1.55395673e+09,   1.59623460e+09,\n",
      "         2.17773673e+09,   2.19567118e+09,   2.28370362e+09,\n",
      "         2.36115121e+09,   7.01782667e+17]),\n",
      " 301462733: array([  2.40122029e+09]),\n",
      " 301574758: array([  8.09756466e+17]),\n",
      " 301998990: array([ 8220122.]),\n",
      " 304949376: array([  2.40122029e+09]),\n",
      " 307332105: array([ 25999480.]),\n",
      " 308291618: array([  3.00759553e+08]),\n",
      " 311356816: array([  2.59994800e+07,   3.00759553e+08,   2.40122029e+09,\n",
      "         8.09756466e+17]),\n",
      " 311880926: array([  1.13398253e+08]),\n",
      " 312924023: array([], dtype=float64),\n",
      " 312981051: array([  3.38593704e+09]),\n",
      " 313390086: array([  3.38593704e+09]),\n",
      " 313437992: array([  1.13398253e+08]),\n",
      " 319288489: array([ 8220122.]),\n",
      " 322216282: array([  5.29350142e+08]),\n",
      " 327569338: array([  3.38593704e+09]),\n",
      " 329437733: array([  2.93751019e+09]),\n",
      " 330627295: array([  1.13398253e+08]),\n",
      " 334744976: array([], dtype=float64),\n",
      " 339167120: array([ 21303235.]),\n",
      " 340316107: array([  2.46772793e+09]),\n",
      " 343755621: array([ 51978298.]),\n",
      " 349615775: array([  5.29350142e+08]),\n",
      " 350060624: array([  5.29350142e+08]),\n",
      " 350156378: array([ 51978298.]),\n",
      " 350359445: array([  1.13398253e+08]),\n",
      " 352143631: array([ 51978298.]),\n",
      " 353427229: array([  2.40122029e+09]),\n",
      " 356025552: array([  3.00759553e+08]),\n",
      " 362420555: array([  2.40122029e+09]),\n",
      " 364947550: array([ 21303235.]),\n",
      " 367633184: array([  3.00759553e+08]),\n",
      " 369907191: array([ 21303235.]),\n",
      " 375267544: array([  2.40122029e+09]),\n",
      " 375505878: array([  2.40122029e+09]),\n",
      " 376134640: array([ 8220122.]),\n",
      " 376962219: array([  8.09756466e+17]),\n",
      " 377122077: array([  5.29350142e+08]),\n",
      " 377859783: array([  5.29350142e+08]),\n",
      " 379010920: array([  7.13768887e+17,   7.76189566e+17]),\n",
      " 382901866: array([  8.09756466e+17]),\n",
      " 383954318: array([], dtype=float64),\n",
      " 384319742: array([  2.40122029e+09]),\n",
      " 386373619: array([ 8220122.]),\n",
      " 386732636: array([  7.76189566e+17,   8.09756466e+17]),\n",
      " 387755961: array([  3.00759553e+08]),\n",
      " 396125874: array([  2.40122029e+09]),\n",
      " 410948302: array([  1.13398253e+08]),\n",
      " 411213396: array([  2.40122029e+09]),\n",
      " 412101247: array([ 21303235.]),\n",
      " 412887287: array([ 51978298.]),\n",
      " 415406337: array([  7.13768887e+17]),\n",
      " 415625837: array([  2.93751019e+09]),\n",
      " 416269699: array([  2.93751019e+09]),\n",
      " 420330286: array([  3.00759553e+08]),\n",
      " 430117833: array([], dtype=float64),\n",
      " 432432569: array([  2.59994800e+07,   3.00759553e+08,   7.13768887e+17]),\n",
      " 433522185: array([  3.00759553e+08]),\n",
      " 435117842: array([  5.29350142e+08]),\n",
      " 438292978: array([  3.00759553e+08,   5.29350142e+08]),\n",
      " 440170995: array([  2.46772793e+09]),\n",
      " 442922429: array([  5.29350142e+08]),\n",
      " 448762725: array([  1.13398253e+08]),\n",
      " 452848045: array([ 24908307.]),\n",
      " 453893556: array([], dtype=float64),\n",
      " 462446622: array([  7.13768887e+17]),\n",
      " 468259904: array([  5.29350142e+08]),\n",
      " 468893308: array([ 25999480.]),\n",
      " 475038078: array([ 77485114.]),\n",
      " 479076506: array([ 8220122.]),\n",
      " 481543642: array([  5.29350142e+08]),\n",
      " 487196539: array([  3.38593704e+09]),\n",
      " 496494231: array([], dtype=float64),\n",
      " 496897649: array([], dtype=float64),\n",
      " 505720676: array([], dtype=float64),\n",
      " 510711354: array([  3.00759553e+08]),\n",
      " 523074459: array([  2.40122029e+09]),\n",
      " 525196117: array([ 25999480.]),\n",
      " 526819809: array([ 25999480.]),\n",
      " 527118870: array([  3.00759553e+08]),\n",
      " 529350142: array([  1.47552170e+07,   1.47554750e+07,   1.82408960e+07,\n",
      "         2.39971400e+07,   2.42921120e+07,   2.54957870e+07,\n",
      "         3.42064090e+07,   4.28638160e+07,   4.45915750e+07,\n",
      "         4.61104330e+07,   4.77938690e+07,   5.03783810e+07,\n",
      "         5.31600270e+07,   6.04076730e+07,   1.03364463e+08,\n",
      "         1.04227735e+08,   1.15936653e+08,   2.08447030e+08,\n",
      "         2.17472777e+08,   2.34703990e+08,   2.95969282e+08,\n",
      "         2.99524455e+08,   3.22216282e+08,   3.49615775e+08,\n",
      "         3.50060624e+08,   3.77122077e+08,   3.77859783e+08,\n",
      "         4.35117842e+08,   4.38292978e+08,   4.42922429e+08,\n",
      "         4.68259904e+08,   4.81543642e+08,   5.40339382e+08,\n",
      "         5.52282851e+08,   5.55363539e+08,   5.61524975e+08,\n",
      "         5.64323390e+08,   6.34599390e+08,   8.28123961e+08,\n",
      "         9.24150745e+08,   1.41094899e+09,   1.42498669e+09,\n",
      "         1.84259605e+09,   1.85251114e+09,   2.17099995e+09,\n",
      "         2.19567118e+09,   2.43692313e+09,   2.66377214e+09,\n",
      "         2.75158591e+09,   2.79979892e+09,   2.84177547e+09,\n",
      "         2.87364927e+09,   3.01101378e+09]),\n",
      " 531523403: array([  3.38593704e+09]),\n",
      " 540339382: array([  5.29350142e+08]),\n",
      " 548686483: array([], dtype=float64),\n",
      " 552282851: array([  5.29350142e+08,   7.76189566e+17]),\n",
      " 555363539: array([  7.74851140e+07,   5.29350142e+08]),\n",
      " 561524975: array([  2.59994800e+07,   3.00759553e+08,   5.29350142e+08]),\n",
      " 562844425: array([  2.40122029e+09]),\n",
      " 564323390: array([  5.29350142e+08]),\n",
      " 567756902: array([  3.38593704e+09]),\n",
      " 571561129: array([  8.09756466e+17]),\n",
      " 572921926: array([  3.00759553e+08]),\n",
      " 576959788: array([  7.76189566e+17]),\n",
      " 587876512: array([  7.76189566e+17]),\n",
      " 588304378: array([  2.40122029e+09]),\n",
      " 592490041: array([ 25999480.]),\n",
      " 596457544: array([  3.38593704e+09]),\n",
      " 603724114: array([  7.76189566e+17]),\n",
      " 617853961: array([ 51978298.]),\n",
      " 626815215: array([ 25999480.]),\n",
      " 634599390: array([  5.29350142e+08]),\n",
      " 636945261: array([  2.40122029e+09]),\n",
      " 719350401: array([  7.74851140e+07,   3.00759553e+08,   7.76189566e+17]),\n",
      " 741056137: array([  2.40122029e+09]),\n",
      " 763213562: array([  2.93751019e+09]),\n",
      " 769767943: array([ 25999480.]),\n",
      " 810672787: array([  7.76189566e+17]),\n",
      " 819467034: array([  2.46772793e+09]),\n",
      " 828123961: array([  5.29350142e+08]),\n",
      " 830193134: array([ 77485114.]),\n",
      " 833326135: array([ 25999480.]),\n",
      " 845207282: array([], dtype=float64),\n",
      " 859431936: array([  2.40122029e+09]),\n",
      " 872056664: array([  2.40122029e+09,   8.09756466e+17]),\n",
      " 873066841: array([  2.93751019e+09]),\n",
      " 898058054: array([  3.38593704e+09]),\n",
      " 924150745: array([  7.74851140e+07,   5.29350142e+08]),\n",
      " 943289430: array([  2.46772793e+09]),\n",
      " 945307062: array([ 24908307.]),\n",
      " 945960175: array([  2.40122029e+09]),\n",
      " 953834312: array([  7.76189566e+17]),\n",
      " 958634641: array([ 24908307.]),\n",
      " 972802519: array([  2.46772793e+09]),\n",
      " 989085162: array([  2.93751019e+09]),\n",
      " 989802145: array([  8.09756466e+17]),\n",
      " 1095419575: array([  3.00759553e+08]),\n",
      " 1097722544: array([  2.46772793e+09]),\n",
      " 1097722766: array([  3.00759553e+08]),\n",
      " 1100983555: array([  3.00759553e+08]),\n",
      " 1116469614: array([  2.46772793e+09]),\n",
      " 1199485980: array([ 51978298.]),\n",
      " 1223916560: array([ 24908307.]),\n",
      " 1341913327: array([ 25999480.]),\n",
      " 1344356983: array([], dtype=float64),\n",
      " 1374228818: array([  3.00759553e+08]),\n",
      " 1410948991: array([  2.59994800e+07,   3.00759553e+08,   5.29350142e+08,\n",
      "         7.13768887e+17]),\n",
      " 1424986688: array([  2.49083070e+07,   7.74851140e+07,   1.13398253e+08,\n",
      "         5.29350142e+08,   7.76189566e+17]),\n",
      " 1430665740: array([ 25999480.]),\n",
      " 1442298883: array([ 25999480.]),\n",
      " 1454076122: array([  2.93751019e+09]),\n",
      " 1477479463: array([  2.93751019e+09]),\n",
      " 1509592296: array([ 77485114.]),\n",
      " 1528158793: array([  3.38593704e+09]),\n",
      " 1536938744: array([  1.13398253e+08]),\n",
      " 1544819407: array([  2.93751019e+09]),\n",
      " 1553956729: array([  3.00759553e+08]),\n",
      " 1588455552: array([  8.09756466e+17]),\n",
      " 1590554431: array([ 25999480.]),\n",
      " 1592812808: array([ 21303235.]),\n",
      " 1596234600: array([  3.00759553e+08]),\n",
      " 1621504831: array([  7.13768887e+17]),\n",
      " 1633013286: array([  2.40122029e+09]),\n",
      " 1673426923: array([  1.13398253e+08]),\n",
      " 1683466044: array([  3.38593704e+09]),\n",
      " 1709422687: array([  8.09756466e+17]),\n",
      " 1842596053: array([  5.29350142e+08]),\n",
      " 1852511136: array([  5.29350142e+08]),\n",
      " 1946493157: array([ 21303235.]),\n",
      " 1964246702: array([  1.13398253e+08]),\n",
      " 1970658666: array([  2.40122029e+09]),\n",
      " 2170999954: array([  7.74851140e+07,   5.29350142e+08,   3.38593704e+09,\n",
      "         7.13768887e+17,   7.76189566e+17]),\n",
      " 2177736728: array([  3.00759553e+08]),\n",
      " 2190120602: array([  3.38593704e+09]),\n",
      " 2195671183: array([          77485114,           24908307,         2937510192,\n",
      "                953834312,           25999480,          300759553,\n",
      "               2401220294,          113398253,          529350142,\n",
      "                 51978298, 809756465871331328,           21303235,\n",
      "               3385937043, 850311866668785664,         2467727930,\n",
      "                 20588986,          131896078, 776189565946195968,\n",
      "       713768886806712320,            8220122]),\n",
      " 2238185864: array([ 8220122.]),\n",
      " 2242329745: array([  8.09756466e+17]),\n",
      " 2243712318: array([  2.46772793e+09]),\n",
      " 2251689488: array([  1.13398253e+08]),\n",
      " 2256654462: array([  8.09756466e+17]),\n",
      " 2267235260: array([  2.93751019e+09,   7.13768887e+17]),\n",
      " 2280533594: array([ 77485114.]),\n",
      " 2283703615: array([  3.00759553e+08]),\n",
      " 2320961065: array([ 77485114.]),\n",
      " 2346524875: array([ 51978298.]),\n",
      " 2361151212: array([  3.00759553e+08]),\n",
      " 2384326501: array([  7.76189566e+17]),\n",
      " 2401220294: array([  7.13778200e+06,   1.40479710e+07,   2.16670650e+07,\n",
      "         2.27413260e+07,   4.17957070e+07,   8.17258510e+07,\n",
      "         8.40986150e+07,   1.25427022e+08,   1.91224958e+08,\n",
      "         1.98774419e+08,   2.05404727e+08,   2.40849010e+08,\n",
      "         2.73411506e+08,   2.75228642e+08,   2.78103726e+08,\n",
      "         2.96306967e+08,   3.01462733e+08,   3.04949376e+08,\n",
      "         3.11356816e+08,   3.53427229e+08,   3.62420555e+08,\n",
      "         3.75267544e+08,   3.75505878e+08,   3.84319742e+08,\n",
      "         3.96125874e+08,   4.11213396e+08,   5.23074459e+08,\n",
      "         5.62844425e+08,   5.88304378e+08,   6.36945261e+08,\n",
      "         7.41056137e+08,   8.59431936e+08,   8.72056664e+08,\n",
      "         9.45960175e+08,   1.63301329e+09,   1.97065867e+09,\n",
      "         2.19567118e+09,   2.40125104e+09,   3.41313536e+09,\n",
      "         8.76739630e+17]),\n",
      " 2401251043: array([  2.40122029e+09]),\n",
      " 2414093978: array([ 21303235.]),\n",
      " 2436923130: array([  5.29350142e+08]),\n",
      " 2457852176: array([ 24908307.,  77485114.]),\n",
      " 2467727930: array([  3.66520640e+07,   3.97733390e+07,   4.81104200e+07,\n",
      "         4.81350130e+07,   6.29691200e+07,   8.94318450e+07,\n",
      "         1.07998331e+08,   1.38704918e+08,   1.59162599e+08,\n",
      "         2.37319178e+08,   3.40316107e+08,   4.40170995e+08,\n",
      "         8.19467034e+08,   9.43289430e+08,   9.72802519e+08,\n",
      "         1.09772254e+09,   1.11646961e+09,   2.19567118e+09,\n",
      "         2.24371232e+09,   2.86401669e+09,   3.01996844e+09,\n",
      "         7.88349702e+17,   7.96034341e+17]),\n",
      " 2599606616: array([ 77485114.]),\n",
      " 2606778615: array([ 25999480.]),\n",
      " 2617457600: array([  2.93751019e+09]),\n",
      " 2636651671: array([  7.76189566e+17]),\n",
      " 2644306341: array([  7.13768887e+17]),\n",
      " 2653303938: array([], dtype=float64),\n",
      " 2663772143: array([  5.29350142e+08]),\n",
      " 2665446013: array([  3.38593704e+09,   7.76189566e+17]),\n",
      " 2680095373: array([  8.09756466e+17]),\n",
      " 2751585907: array([  7.74851140e+07,   5.29350142e+08]),\n",
      " 2755183484: array([  1.13398253e+08]),\n",
      " 2755624355: array([ 21303235.]),\n",
      " 2767714211: array([ 77485114.]),\n",
      " 2793038619: array([  2.93751019e+09]),\n",
      " 2795941059: array([  3.38593704e+09]),\n",
      " 2799798919: array([  5.29350142e+08]),\n",
      " 2805551232: array([  3.38593704e+09]),\n",
      " 2806234714: array([  8.09756466e+17]),\n",
      " 2827590346: array([  3.38593704e+09,   8.09756466e+17]),\n",
      " 2841775467: array([  5.29350142e+08,   8.09756466e+17]),\n",
      " 2864016687: array([  2.46772793e+09]),\n",
      " 2872456893: array([  1.13398253e+08]),\n",
      " 2873649274: array([  5.29350142e+08]),\n",
      " 2880849657: array([  2.93751019e+09]),\n",
      " 2937510192: array([  1.94888230e+07,   3.55612340e+07,   5.93148990e+07,\n",
      "         7.80602900e+07,   1.00206755e+08,   1.86338394e+08,\n",
      "         2.64138630e+08,   2.65307435e+08,   3.29437733e+08,\n",
      "         4.15625837e+08,   4.16269699e+08,   7.63213562e+08,\n",
      "         8.73066841e+08,   9.89085162e+08,   1.45407612e+09,\n",
      "         1.47747946e+09,   1.54481941e+09,   2.19567118e+09,\n",
      "         2.26723526e+09,   2.61745760e+09,   2.79303862e+09,\n",
      "         2.88084966e+09,   2.93922939e+09,   3.00878686e+09,\n",
      "         3.34706788e+09,   9.11694821e+17]),\n",
      " 2939229387: array([  2.93751019e+09]),\n",
      " 2969265719: array([  1.13398253e+08]),\n",
      " 2977856595: array([  2.05889860e+07,   7.13768887e+17]),\n",
      " 3008786863: array([  2.93751019e+09]),\n",
      " 3011013785: array([  5.29350142e+08]),\n",
      " 3019968435: array([  2.46772793e+09]),\n",
      " 3023304436: array([  8.50311867e+17]),\n",
      " 3027577229: array([ 21303235.]),\n",
      " 3068630488: array([  8.09756466e+17]),\n",
      " 3163284887: array([  8.22012200e+06,   2.49083070e+07,   2.59994800e+07,\n",
      "         7.74851140e+07,   1.13398253e+08,   7.13768887e+17]),\n",
      " 3347067880: array([  2.93751019e+09]),\n",
      " 3384551488: array([ 8220122.]),\n",
      " 3385937043: array([  4.80930000e+04,   1.20482520e+07,   1.43069310e+07,\n",
      "         1.52929190e+07,   1.78403740e+07,   2.67668610e+07,\n",
      "         3.11858450e+07,   7.31750430e+07,   8.97681170e+07,\n",
      "         2.29227311e+08,   2.30859250e+08,   2.39783773e+08,\n",
      "         2.64119009e+08,   3.12981051e+08,   3.13390086e+08,\n",
      "         3.27569338e+08,   4.87196539e+08,   5.31523403e+08,\n",
      "         5.67756902e+08,   5.96457544e+08,   8.98058054e+08,\n",
      "         1.52815879e+09,   1.68346604e+09,   2.17099995e+09,\n",
      "         2.19012060e+09,   2.19567118e+09,   2.66544601e+09,\n",
      "         2.79594106e+09,   2.80555123e+09,   2.82759035e+09,\n",
      "         3.38738180e+09,   3.97167698e+09,   4.34855901e+09,\n",
      "         4.48412953e+09,   4.76456550e+09,   4.89045824e+09,\n",
      "         7.11299341e+17,   7.17408748e+17,   7.31401195e+17,\n",
      "         7.47099891e+17,   7.53919907e+17,   7.54615395e+17,\n",
      "         7.66075003e+17]),\n",
      " 3387381802: array([  3.38593704e+09]),\n",
      " 3390961821: array([  1.13398253e+08]),\n",
      " 3401268443: array([  1.13398253e+08]),\n",
      " 3413135361: array([  2.40122029e+09]),\n",
      " 3439331974: array([  7.13768887e+17]),\n",
      " 3450537616: array([  8.50311867e+17]),\n",
      " 3899277509: array([  7.13768887e+17]),\n",
      " 3901657042: array([  7.13768887e+17]),\n",
      " 3971676977: array([  7.74851140e+07,   3.38593704e+09,   7.76189566e+17]),\n",
      " 4348559007: array([  3.38593704e+09]),\n",
      " 4484129530: array([  3.38593704e+09]),\n",
      " 4764565500: array([  3.38593704e+09]),\n",
      " 4890458235: array([  3.38593704e+09]),\n",
      " 701782666933379072: array([  3.00759553e+08]),\n",
      " 709745446185521152: array([  1.13398253e+08]),\n",
      " 710382189905649664: array([ 77485114.]),\n",
      " 711299341403684864: array([  3.38593704e+09]),\n",
      " 713768886806712320: array([  1.47554750e+07,   1.47554920e+07,   1.57227400e+07,\n",
      "         1.77746610e+07,   2.02282330e+07,   3.42064090e+07,\n",
      "         3.56859890e+07,   3.90498940e+07,   4.26627160e+07,\n",
      "         5.31600270e+07,   5.95017500e+07,   6.68186680e+07,\n",
      "         1.75737279e+08,   1.86104486e+08,   3.79010920e+08,\n",
      "         4.15406337e+08,   4.32432569e+08,   4.62446622e+08,\n",
      "         1.41094899e+09,   1.62150483e+09,   2.17099995e+09,\n",
      "         2.19567118e+09,   2.26723526e+09,   2.64430634e+09,\n",
      "         2.97785660e+09,   3.16328489e+09,   3.43933197e+09,\n",
      "         3.89927751e+09,   3.90165704e+09,   7.20710572e+17,\n",
      "         7.72536586e+17,   8.01035784e+17,   8.18234229e+17]),\n",
      " 717408747534966784: array([  3.38593704e+09]),\n",
      " 720710572489224193: array([  7.13768887e+17]),\n",
      " 722759387031478272: array([], dtype=float64),\n",
      " 731401195215040512: array([  3.38593704e+09]),\n",
      " 733291998724149248: array([  1.13398253e+08]),\n",
      " 747099890749214720: array([  3.38593704e+09]),\n",
      " 750958250510737408: array([ 51978298.]),\n",
      " 751362663473610757: array([  1.13398253e+08]),\n",
      " 753919907348246528: array([  3.38593704e+09]),\n",
      " 754615394594357249: array([  3.38593704e+09]),\n",
      " 755881737201254400: array([  1.13398253e+08]),\n",
      " 766075003276328961: array([  3.38593704e+09]),\n",
      " 772536586164666372: array([  7.13768887e+17]),\n",
      " 776189565946195968: array([  1.43413230e+07,   1.47551890e+07,   1.47553990e+07,\n",
      "         1.53512670e+07,   1.77746610e+07,   2.28970090e+07,\n",
      "         2.42921120e+07,   2.54957870e+07,   3.42064090e+07,\n",
      "         3.90498940e+07,   4.08330200e+07,   5.76839300e+07,\n",
      "         2.75584723e+08,   3.79010920e+08,   3.86732636e+08,\n",
      "         5.52282851e+08,   5.76959788e+08,   5.87876512e+08,\n",
      "         6.03724114e+08,   7.19350401e+08,   8.10672787e+08,\n",
      "         9.53834312e+08,   1.42498669e+09,   2.17099995e+09,\n",
      "         2.19567118e+09,   2.38432650e+09,   2.63665167e+09,\n",
      "         2.66544601e+09,   3.97167698e+09]),\n",
      " 785916632581439488: array([ 24908307.]),\n",
      " 788349702194552832: array([  2.49083070e+07,   2.46772793e+09]),\n",
      " 790214798675968000: array([ 24908307.]),\n",
      " 796034340975214592: array([  2.46772793e+09]),\n",
      " 801035783998160896: array([  7.13768887e+17]),\n",
      " 809756465871331328: array([  1.47551890e+07,   1.47552170e+07,   1.47553340e+07,\n",
      "         1.47553790e+07,   2.26156970e+07,   2.54957870e+07,\n",
      "         3.90498940e+07,   4.63542640e+07,   5.03783810e+07,\n",
      "         9.52151250e+07,   1.26288915e+08,   2.85207489e+08,\n",
      "         3.01574758e+08,   3.11356816e+08,   3.76962219e+08,\n",
      "         3.82901866e+08,   3.86732636e+08,   5.71561129e+08,\n",
      "         8.72056664e+08,   9.89802145e+08,   1.58845555e+09,\n",
      "         1.70942269e+09,   2.19567118e+09,   2.24232974e+09,\n",
      "         2.25665446e+09,   2.68009537e+09,   2.80623471e+09,\n",
      "         2.82759035e+09,   2.84177547e+09,   3.06863049e+09]),\n",
      " 811229675758505984: array([ 21303235.]),\n",
      " 818234229121314822: array([  7.13768887e+17]),\n",
      " 839065638614274048: array([  1.13398253e+08]),\n",
      " 850311866668785664: array([  3.61740130e+07,   3.97733390e+07,   2.19567118e+09,\n",
      "         3.02330444e+09,   3.45053762e+09]),\n",
      " 870216254300270593: array([  1.13398253e+08]),\n",
      " 875046281588224000: array([], dtype=float64),\n",
      " 876739630258954240: array([  2.40122029e+09]),\n",
      " 886949050381209600: array([  1.13398253e+08]),\n",
      " 887977407063482368: array([  1.13398253e+08]),\n",
      " 911694820984393728: array([  2.93751019e+09])}\n"
     ]
    }
   ],
   "source": [
    "pprint(network)"
   ]
  },
  {
   "cell_type": "code",
   "execution_count": 267,
   "metadata": {
    "ExecuteTime": {
     "end_time": "2017-10-15T21:55:47.667371Z",
     "start_time": "2017-10-15T21:55:47.663981Z"
    }
   },
   "outputs": [],
   "source": [
    "# Avoid empty values, for whichever reason\n",
    "# taken from https://stackoverflow.com/questions/12118695/efficient-way-to-remove-keys-with-empty-strings-from-a-dict\n",
    "clean_network = dict((k, v) for k, v in network.items() if v is not [])"
   ]
  },
  {
   "cell_type": "code",
   "execution_count": null,
   "metadata": {
    "collapsed": true
   },
   "outputs": [],
   "source": []
  },
  {
   "cell_type": "code",
   "execution_count": 269,
   "metadata": {
    "ExecuteTime": {
     "end_time": "2017-10-15T21:56:17.445829Z",
     "start_time": "2017-10-15T21:56:13.513791Z"
    }
   },
   "outputs": [
    {
     "data": {
      "text/plain": [
       "<matplotlib.collections.LineCollection at 0x7f3c01ebdbe0>"
      ]
     },
     "execution_count": 269,
     "metadata": {},
     "output_type": "execute_result"
    },
    {
     "data": {
      "image/png": "[encoded data removed]",
      "text/plain": [
       "<matplotlib.figure.Figure at 0x7f3c00cbda20>"
      ]
     },
     "metadata": {},
     "output_type": "display_data"
    }
   ],
   "source": [
    "# Visualize the graph\n",
    "network_graph = nx.Graph(clean_network)\n",
    "pos=nx.spring_layout(network_graph, k =0.10, iterations=100)\n",
    "nx.draw_networkx_nodes(network_graph,pos, nodelist=[user_id],\n",
    "                       node_size=200, node_color='r')\n",
    "nx.draw_networkx_nodes(network_graph,pos, nodelist=list(first_nodes),\n",
    "                       node_size=100, node_color='g')\n",
    "nx.draw_networkx_nodes(network_graph,pos, nodelist=list(second_nodes),\n",
    "                       node_size=10, node_color='b')\n",
    "nx.draw_networkx_edges(network_graph,pos)"
   ]
  },
  {
   "cell_type": "code",
   "execution_count": 264,
   "metadata": {
    "ExecuteTime": {
     "end_time": "2017-10-15T21:55:13.678590Z",
     "start_time": "2017-10-15T21:55:13.674503Z"
    }
   },
   "outputs": [
    {
     "data": {
      "text/plain": [
       "numpy.ndarray"
      ]
     },
     "execution_count": 264,
     "metadata": {},
     "output_type": "execute_result"
    }
   ],
   "source": [
    "type(network[10796602])"
   ]
  },
  {
   "cell_type": "markdown",
   "metadata": {},
   "source": [
    "# 2. Discover some of the properties of the collected network"
   ]
  },
  {
   "cell_type": "markdown",
   "metadata": {},
   "source": [
    "## 2.1 Adjacency matrix"
   ]
  },
  {
   "cell_type": "markdown",
   "metadata": {},
   "source": [
    "Congradulations! You have now created a dictionary that describes a real Twitter network!\n",
    "We now want to transform this dictionary into the adjacency (or weight) matrix that you learned about in your first class. "
   ]
  },
  {
   "cell_type": "code",
   "execution_count": null,
   "metadata": {
    "ExecuteTime": {
     "end_time": "2017-10-15T21:01:00.991840Z",
     "start_time": "2017-10-15T21:01:00.307Z"
    },
    "collapsed": true
   },
   "outputs": [],
   "source": [
    "W=np.zeros([len(all_nodes),len(all_nodes)], dtype=int)"
   ]
  },
  {
   "cell_type": "code",
   "execution_count": null,
   "metadata": {
    "ExecuteTime": {
     "end_time": "2017-10-15T21:01:00.992836Z",
     "start_time": "2017-10-15T21:01:00.309Z"
    },
    "collapsed": true,
    "run_control": {
     "marked": true
    }
   },
   "outputs": [],
   "source": [
    "for row in range(0,len(all_nodes)):\n",
    "    for col in range(0,len(all_nodes)):\n",
    "         # A node cannot be adjacent to itself\n",
    "        if row is col:    \n",
    "            W[row][col] = 0\n",
    "        #Check if there's an edge connectiong the nodes\n",
    "        elif (all_nodes[row] in network[all_nodes[col]]) or (all_nodes[col] in network[all_nodes[row]]):\n",
    "            W[row][col] = 1\n",
    "        else:\n",
    "            W[row][col] = 0"
   ]
  },
  {
   "cell_type": "markdown",
   "metadata": {},
   "source": [
    "Remember that a weight matrix should be symmetric. Check if it is:"
   ]
  },
  {
   "cell_type": "code",
   "execution_count": null,
   "metadata": {
    "ExecuteTime": {
     "end_time": "2017-10-15T21:01:00.993657Z",
     "start_time": "2017-10-15T21:01:00.313Z"
    }
   },
   "outputs": [],
   "source": [
    "np.nonzero(W-W.transpose())"
   ]
  },
  {
   "cell_type": "markdown",
   "metadata": {},
   "source": [
    "**Question 1:**\n",
    "It might happen that $W \\neq W^{T} $ for some $(i,j)$. Explain why this might be the case."
   ]
  },
  {
   "cell_type": "markdown",
   "metadata": {},
   "source": [
    "**Your answer here:** It could have happened in the cases where a user doesn't let us check its contacts if we programmed differently. Indeed, if we used only the entry in the dictionary \"network\" associated with the node to populate the array, if the entry wouldn't contain a connection that is in the dictionary associated the other node, then there could be mismatch. Because we use both the dictionary entry for the node and the dictionary entry of its potential connection in the edge boolean detector, this case cannot happen."
   ]
  },
  {
   "cell_type": "markdown",
   "metadata": {},
   "source": [
    "Impose your weight matrix to be symmetric."
   ]
  },
  {
   "cell_type": "code",
   "execution_count": null,
   "metadata": {
    "ExecuteTime": {
     "end_time": "2017-10-15T21:01:00.994709Z",
     "start_time": "2017-10-15T21:01:00.316Z"
    },
    "collapsed": true
   },
   "outputs": [],
   "source": [
    "# Make W is symmetric\n",
    "bigger = W.transpose() > W"
   ]
  },
  {
   "cell_type": "code",
   "execution_count": null,
   "metadata": {
    "ExecuteTime": {
     "end_time": "2017-10-15T21:01:00.995653Z",
     "start_time": "2017-10-15T21:01:00.319Z"
    },
    "collapsed": true
   },
   "outputs": [],
   "source": [
    "W = W - W*bigger + W.transpose()*bigger"
   ]
  },
  {
   "cell_type": "markdown",
   "metadata": {},
   "source": [
    "Plot the weight matrix of your collected network.\n",
    "\n",
    "Hint: use `plt.spy()` to visualize a matrix."
   ]
  },
  {
   "cell_type": "code",
   "execution_count": null,
   "metadata": {
    "ExecuteTime": {
     "end_time": "2017-10-15T21:01:00.996424Z",
     "start_time": "2017-10-15T21:01:00.322Z"
    }
   },
   "outputs": [],
   "source": [
    "# your code here\n",
    "plt.title('Adjacency Matrix W')\n",
    "plt.spy(W,markersize=2)"
   ]
  },
  {
   "cell_type": "markdown",
   "metadata": {},
   "source": [
    "**Question 2:**\n",
    "What is the maximum number of links $L_{max}$ in a network with $N$ nodes (where $N$ is the number of nodes in your collected network)? How many links $L$ are there in your collected network? Comment on how $L$ and $L_{max}$ compare."
   ]
  },
  {
   "cell_type": "markdown",
   "metadata": {},
   "source": [
    "**Your answer here:**\n",
    "* Maximum number of links : the maximum number of links is attained when every node is connected to every other node. It is given by:\n",
    "$$ L_{max} = (N*N-1) / 2$$\n",
    "N-1 used to remove the diagonal from the count"
   ]
  },
  {
   "cell_type": "code",
   "execution_count": null,
   "metadata": {
    "ExecuteTime": {
     "end_time": "2017-10-15T21:01:00.997316Z",
     "start_time": "2017-10-15T21:01:00.326Z"
    }
   },
   "outputs": [],
   "source": [
    "Lmax=len(W)*(len(W)-1) /2\n",
    "print(Lmax)"
   ]
  },
  {
   "cell_type": "markdown",
   "metadata": {},
   "source": [
    "* How many links in collected network:\n",
    "We simply have to make the sum of the links in the network and divide it by two \n",
    "$$ L_W = \\frac{1}{2} \\sum_{i=0}^{len(W)-1}\\sum_{j=0}^{len(W[0])-1}W(i)(j)$$"
   ]
  },
  {
   "cell_type": "code",
   "execution_count": null,
   "metadata": {
    "ExecuteTime": {
     "end_time": "2017-10-15T21:01:00.998120Z",
     "start_time": "2017-10-15T21:01:00.330Z"
    }
   },
   "outputs": [],
   "source": [
    "LW = np.sum(W)/2\n",
    "print(\"There are {} links in the collected network\".format(LW))"
   ]
  },
  {
   "cell_type": "markdown",
   "metadata": {},
   "source": [
    "* Comment on how L and Lmax compare: \n",
    "We can see that L is over an order of magnitude smaller than $L_{max}$. This means that we have a very sparse graph. This is indeed the case as we have seen from the adjacent matrix."
   ]
  },
  {
   "cell_type": "markdown",
   "metadata": {},
   "source": [
    "## 2.2 Degrees distribution"
   ]
  },
  {
   "cell_type": "markdown",
   "metadata": {},
   "source": [
    "Plot a histogram of the degree distribution. "
   ]
  },
  {
   "cell_type": "code",
   "execution_count": null,
   "metadata": {
    "ExecuteTime": {
     "end_time": "2017-10-15T21:01:01.000557Z",
     "start_time": "2017-10-15T21:01:00.335Z"
    },
    "collapsed": true
   },
   "outputs": [],
   "source": [
    "p = [np.sum(W[index]) for index in range(0, len(W))]"
   ]
  },
  {
   "cell_type": "code",
   "execution_count": null,
   "metadata": {
    "ExecuteTime": {
     "end_time": "2017-10-15T21:01:01.001892Z",
     "start_time": "2017-10-15T21:01:00.338Z"
    },
    "run_control": {
     "marked": true
    }
   },
   "outputs": [],
   "source": [
    "plt.hist(p, bins=range(0,np.amax(p)+2), normed=True, rwidth = 0.5, align='left')\n",
    "plt.title(\"Degree distribution of the Weight matrix\")\n",
    "plt.xlabel(\"Number of links\")\n",
    "plt.ylabel(\"Probability of occurence\")\n",
    "plt.show()"
   ]
  },
  {
   "cell_type": "markdown",
   "metadata": {},
   "source": [
    "**Question 3:** Comment on the plot. What do you observe? Would you expect a similar degree disribution in the complete Twitter network?"
   ]
  },
  {
   "cell_type": "markdown",
   "metadata": {},
   "source": [
    "We can see that there's a high proportion of nodes that have a small number of links. Then, we see that there's some nodes having many links (over 10). There's nearly no nodes in-between.\n",
    "\n",
    "The degree distribution we obtain is actually very artificial, because we use a very limited scope for the links between nodes. Indeed, if we added more level of nodes than only two, there would be more and more nodes with a higher number of links and some nodes with a very high number of links.\n",
    "\n",
    "Though, it is probable that there's a lot of nodes in the twitter network that have very few connections. Indeed, multiple cases can cause that: users that follows a lot of accounts and are not followed by many (lurkers), users that are followed by a lot of accounts, but don't follow many (Politicians, Organisations, Stars, etc.) and users that are simply not very active and therefore don't have many connections."
   ]
  },
  {
   "cell_type": "markdown",
   "metadata": {},
   "source": [
    "## 2.3 Average degree"
   ]
  },
  {
   "cell_type": "markdown",
   "metadata": {},
   "source": [
    "Calculate the average degree of your collected network."
   ]
  },
  {
   "cell_type": "code",
   "execution_count": null,
   "metadata": {
    "ExecuteTime": {
     "end_time": "2017-10-15T21:01:01.003220Z",
     "start_time": "2017-10-15T21:01:00.342Z"
    }
   },
   "outputs": [],
   "source": [
    "d_avg = np.average(p)\n",
    "print(d_avg)"
   ]
  },
  {
   "cell_type": "markdown",
   "metadata": {},
   "source": [
    "## 2.4 Diameter of the collected network"
   ]
  },
  {
   "cell_type": "markdown",
   "metadata": {},
   "source": [
    "**Question 4:** What is the diameter of the collected network? Please justify."
   ]
  },
  {
   "cell_type": "markdown",
   "metadata": {},
   "source": [
    "Our graph originates with the twitter page of the \"user_id\" user, we will call the associated node \"Source\". Every nodes is added with a link to the Source node or with a link to a node that has a link to the Source node. Because of this, the longest path from any node to the source is 2. Even without seeing the actual graph, we can infer from this that the diameter of the network has an upper boundary of 4: any two pair of nodes that we will connect together have a maximum distance to the Source of 2 and therefore a maximum distance between them of 4.\n",
    "\n",
    "To find out if this is the case in our graph, we can simply check if two second order nodes that have no other connections than their first order node and for which the first order nodes are not connection. This is sufficient to prove that the maximum distance is 4."
   ]
  },
  {
   "cell_type": "code",
   "execution_count": null,
   "metadata": {
    "ExecuteTime": {
     "end_time": "2017-10-15T21:01:01.004615Z",
     "start_time": "2017-10-15T21:01:00.345Z"
    }
   },
   "outputs": [],
   "source": [
    "# Prove or disprove the presence of a node at distance 4\n",
    "lonely_nodes = []\n",
    "found_distance_four = False\n",
    "for node in second_nodes:\n",
    "    # Find all nodes who have only a parent as a connection\n",
    "    if len(network[node]) is 1:\n",
    "        lonely_nodes.append(node)\n",
    "for node in lonely_nodes:\n",
    "    if found_distance_four:\n",
    "        break\n",
    "    for other_node in lonely_nodes:\n",
    "        # Check if they have the same parent\n",
    "        if not (network[node][0] in network[other_node]):\n",
    "            # Check if their parents are connected\n",
    "            if not (network[node][0] in network[other_node] or network[other_node][0] in network[node]):\n",
    "                print(\"Found two nodes at distance 4, node {} and node {}\".format(node, other_node))\n",
    "                print(\"Diameter must be 4\")\n",
    "                found_distance_four = True\n",
    "                break\n",
    "if not found_distance_four:\n",
    "    print(\"No nodes at distance four, diameter is most likely 3\")"
   ]
  },
  {
   "cell_type": "markdown",
   "metadata": {},
   "source": [
    "## 2.5 Pruning the collected network"
   ]
  },
  {
   "cell_type": "markdown",
   "metadata": {},
   "source": [
    "You might notice that some nodes have very few connections and hence our matrix is very sparse. Prune the collected network so that you keep only the nodes that have a degree that is greater than the average degree and plot the new adjacency matrix."
   ]
  },
  {
   "cell_type": "code",
   "execution_count": null,
   "metadata": {
    "ExecuteTime": {
     "end_time": "2017-10-15T21:01:01.006155Z",
     "start_time": "2017-10-15T21:01:00.349Z"
    }
   },
   "outputs": [],
   "source": [
    "# Create a new version of the all_nodes array with only the\n",
    "# nodes that contain more than the average of connections\n",
    "pruned_all_nodes = [node for node in all_nodes \\\n",
    "                    if (len(network[node]) > d_avg)]\n",
    "Wpruned = np.zeros([len(pruned_all_nodes),len(pruned_all_nodes)], dtype=int)                      \n",
    "for row in range(0,len(pruned_all_nodes)):\n",
    "    for col in range(0,len(pruned_all_nodes)):\n",
    "         # A node cannot be adjacent to itself\n",
    "        if row is col:    \n",
    "            Wpruned[row][col] = 0\n",
    "        #Check if there's an edge connectiong the nodes\n",
    "        elif (pruned_all_nodes[row] in network[pruned_all_nodes[col]]) \\\n",
    "                        or (pruned_all_nodes[col] in network[all_nodes[row]]):\n",
    "            Wpruned[row][col] = 1\n",
    "        else:\n",
    "            Wpruned[row][col] = 0\n",
    "                        "
   ]
  },
  {
   "cell_type": "code",
   "execution_count": null,
   "metadata": {
    "ExecuteTime": {
     "end_time": "2017-10-15T21:01:01.007621Z",
     "start_time": "2017-10-15T21:01:00.352Z"
    }
   },
   "outputs": [],
   "source": [
    "# Note: Some node don't have the proper number of links because they were\n",
    "#       linked to node that have been removed\n",
    "plt.spy(Wpruned, markersize=5)\n",
    "plt.title('Adjacency Matrix W');"
   ]
  },
  {
   "cell_type": "code",
   "execution_count": null,
   "metadata": {
    "ExecuteTime": {
     "end_time": "2017-10-15T21:01:01.008863Z",
     "start_time": "2017-10-15T21:01:00.355Z"
    }
   },
   "outputs": [],
   "source": [
    "# Visualize the graph\n",
    "# We superpose it over the results from the previous graph to show which \n",
    "# nodes made it through\n",
    "pruned_network_graph= nx.Graph(network)\n",
    "pos=nx.spring_layout(pruned_network_graph, iterations=150)\n",
    "nx.draw_networkx_nodes(pruned_network_graph,pos, nodelist=[user_id],\n",
    "                       node_size=600, node_color='r')\n",
    "nx.draw_networkx_nodes(pruned_network_graph,pos, nodelist=list(first_nodes),\n",
    "                       node_size=500, node_color='g')\n",
    "nx.draw_networkx_nodes(pruned_network_graph,pos, nodelist=list(pruned_all_nodes),\n",
    "                       node_size=200, node_color='b')\n",
    "nx.draw_networkx_edges(pruned_network_graph,pos)"
   ]
  },
  {
   "cell_type": "code",
   "execution_count": null,
   "metadata": {
    "collapsed": true
   },
   "outputs": [],
   "source": []
  }
 ],
 "metadata": {
  "kernelspec": {
   "display_name": "Python [default]",
   "language": "python",
   "name": "python3"
  },
  "language_info": {
   "codemirror_mode": {
    "name": "ipython",
    "version": 3
   },
   "file_extension": ".py",
   "mimetype": "text/x-python",
   "name": "python",
   "nbconvert_exporter": "python",
   "pygments_lexer": "ipython3",
   "version": "3.6.2"
  },
  "toc": {
   "nav_menu": {},
   "number_sections": true,
   "sideBar": true,
   "skip_h1_title": false,
   "toc_cell": false,
   "toc_position": {},
   "toc_section_display": "block",
   "toc_window_display": false
  },
  "varInspector": {
   "cols": {
    "lenName": 16,
    "lenType": 16,
    "lenVar": 40
   },
   "kernels_config": {
    "python": {
     "delete_cmd_postfix": "",
     "delete_cmd_prefix": "del ",
     "library": "var_list.py",
     "varRefreshCmd": "print(var_dic_list())"
    },
    "r": {
     "delete_cmd_postfix": ") ",
     "delete_cmd_prefix": "rm(",
     "library": "var_list.r",
     "varRefreshCmd": "cat(var_dic_list()) "
    }
   },
   "position": {
    "height": "515px",
    "left": "560px",
    "right": "20px",
    "top": "120px",
    "width": "350px"
   },
   "types_to_exclude": [
    "module",
    "function",
    "builtin_function_or_method",
    "instance",
    "_Feature"
   ],
   "window_display": false
  }
 },
 "nbformat": 4,
 "nbformat_minor": 1
}
