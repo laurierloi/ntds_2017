{
 "cells": [
  {
   "cell_type": "markdown",
   "metadata": {},
   "source": [
    "# Collect and Analyze a Twitter Network\n",
    "[Effrosyni Simou](http://lts4.epfl.ch/simou), *PhD Student*, [EPFL](http://epfl.ch) [LTS4](http://lts4.epfl.ch)"
   ]
  },
  {
   "cell_type": "markdown",
   "metadata": {},
   "source": [
    "# Objective of Exercise\n",
    "The aim of this exercise is to learn how to create your own, real network using data collected from the Internet and then to discover some properties of the collected network. "
   ]
  },
  {
   "cell_type": "markdown",
   "metadata": {},
   "source": [
    "# Resources\n",
    "You might want to have a look at the following resources before starting:\n",
    "\n",
    "* [Twitter REST API](https://dev.twitter.com/rest/public)\n",
    "* [Tweepy Documentation](http://tweepy.readthedocs.io/en/v3.5.0/)\n",
    "* [Tutorial \"Mining Twitter data with Python\"](https://marcobonzanini.com/2015/03/02/mining-twitter-data-with-python-part-1/)"
   ]
  },
  {
   "cell_type": "markdown",
   "metadata": {},
   "source": [
    "# 1. Collect a Twitter Network"
   ]
  },
  {
   "cell_type": "markdown",
   "metadata": {},
   "source": [
    "In order to collect data from Twitter you will need to generate access tokens.  To do this you will need to register a [client application with Twitter](https://apps.twitter.com/). Once you are done you should have your tokens. You can now create a `credentials.ini` file as follows:\n",
    "```\n",
    "[twitter]\n",
    "consumer_key = YOUR-CONSUMER-KEY\n",
    "consumer_secret = YOUR-CONSUMER-SECRET\n",
    "access_token = YOUR-ACCESS-TOKEN\n",
    "access_secret = YOUR-ACCESS-SECRET\n",
    "```\n",
    "In this way you will have this information readily available to you. "
   ]
  },
  {
   "cell_type": "code",
   "execution_count": 173,
   "metadata": {
    "ExecuteTime": {
     "end_time": "2017-10-14T22:51:23.537193Z",
     "start_time": "2017-10-14T22:51:23.514919Z"
    }
   },
   "outputs": [],
   "source": [
    "%matplotlib inline\n",
    "\n",
    "import random\n",
    "import configparser\n",
    "import matplotlib.pyplot as plt\n",
    "import numpy as np\n",
    "import pandas as pd\n",
    "from pprint import pprint\n",
    "import tweepy  # you will need to install tweepy first"
   ]
  },
  {
   "cell_type": "code",
   "execution_count": 174,
   "metadata": {
    "ExecuteTime": {
     "end_time": "2017-10-14T22:51:24.214528Z",
     "start_time": "2017-10-14T22:51:24.212327Z"
    },
    "collapsed": true
   },
   "outputs": [],
   "source": [
    "# Variable used to print degug information in this notebook\n",
    "DEBUG_INFO = True"
   ]
  },
  {
   "cell_type": "code",
   "execution_count": 175,
   "metadata": {
    "ExecuteTime": {
     "end_time": "2017-10-14T22:51:24.812893Z",
     "start_time": "2017-10-14T22:51:24.803765Z"
    },
    "collapsed": true
   },
   "outputs": [],
   "source": [
    "# Read the confidential token.\n",
    "credentials = configparser.ConfigParser()\n",
    "credentials.read('credentials.ini')\n",
    "\n",
    "#authentication\n",
    "auth = tweepy.OAuthHandler(credentials.get('twitter', 'consumer_key'), credentials.get('twitter', 'consumer_secret'))\n",
    "auth.set_access_token(credentials.get('twitter', 'access_token'), credentials.get('twitter', 'access_secret'))\n",
    "\n",
    "#construct API instance\n",
    "#deal with rate limits and notify when delayed because of rate limits\n",
    "api = tweepy.API(auth,wait_on_rate_limit=True, wait_on_rate_limit_notify=True)"
   ]
  },
  {
   "cell_type": "markdown",
   "metadata": {},
   "source": [
    "Now you are all set up to start collecting data from Twitter! "
   ]
  },
  {
   "cell_type": "markdown",
   "metadata": {},
   "source": [
    "In this exercise we will construct a network with the following logic:\n",
    "\n",
    "1) We will chose a `user_id` in Twitter to be our first node. \n",
    "\n",
    "2) We will find (some) of the users who are both following `user_id` and are being followed by `user_id`. From now on we will call such users \"connections\" of `user_id`. We will place these user ids in a list called `first_nodes`. \n",
    "\n",
    "3) For every node in the list `first_nodes` we will then find (some) of the users who are following and are being followed by this node (aka the connections of this node). The user ids collected in this step will be placed in a list called `second_nodes`.\n",
    "\n",
    "4) The collection of the ids of all nodes (aka Twitter users) that we have collected so far will be placed in a list called `all_nodes`.\n",
    "\n",
    "5) Since we have only collected a subset of all possible \"connections\" for our nodes we have to check if there are any remaining inner connections that we have missed.\n",
    "\n",
    "The entire network is to be organized in a dictionary with entries that will have as key the Twitter id of the user (this is a number characterizing each user in Twitter) and as value the list of ids of his connections.\n",
    "\n",
    "So, let us begin. The first thing that you will have to do is to chose the node from which everything will start. I have chosen the Twitter account of [Applied Machine Learning Days](https://www.appliedmldays.org) that will take place in January 2018 in EPFL. You may change that if you wish to, but please make sure that the user you chose has both followers and friends and that he allows you to access this data."
   ]
  },
  {
   "cell_type": "code",
   "execution_count": 176,
   "metadata": {
    "ExecuteTime": {
     "end_time": "2017-10-14T22:51:29.590719Z",
     "start_time": "2017-10-14T22:51:29.241246Z"
    },
    "collapsed": true
   },
   "outputs": [],
   "source": [
    "user = 'msf'\n",
    "user_id=api.get_user(user).id"
   ]
  },
  {
   "cell_type": "markdown",
   "metadata": {},
   "source": [
    "In the following cell write a function that takes as an argument the Twitter id of a user and returns a list with the **ids** of his connections. Take into account the case where a user does not allow you to access this information.\n",
    "\n",
    "**Reminder:** By connections we mean users that are both followers and friends of a given user."
   ]
  },
  {
   "cell_type": "code",
   "execution_count": 177,
   "metadata": {
    "ExecuteTime": {
     "end_time": "2017-10-14T22:51:30.792788Z",
     "start_time": "2017-10-14T22:51:30.776263Z"
    }
   },
   "outputs": [],
   "source": [
    "def find_connections(user_id,nbr_of_pages=1):\n",
    "    followers = []\n",
    "    friends=[]\n",
    "    try:\n",
    "        for part_friends in tweepy.Cursor(api.friends_ids, id=user_id).pages(nbr_of_pages):\n",
    "            friends.extend(part_friends)\n",
    "        for part_followers in tweepy.Cursor(api.followers_ids, id=user_id).pages(nbr_of_pages):\n",
    "            followers.extend(part_followers)\n",
    "    except tweepy.TweepError as e:\n",
    "        # Manage errors from the tweepy API. We simply print the error information\n",
    "        print(\"Error while finding connections!\\n\\tReason:\",\n",
    "              \"{}\\n\\tResponse: {}\\n\\tAPI Code: {}\".format(e.reason, e.response, e.api_code))\n",
    "        return None\n",
    "    else:\n",
    "        connections = np.intersect1d(friends, followers)\n",
    "        # Print some debug information related to the s\n",
    "        if DEBUG_INFO:\n",
    "            print(\"{} has {} connections from {} friends and {} followers when using {} pages\".format(\n",
    "                user_id, len(connections), len(friends), len(followers), nbr_of_pages)\n",
    "                 )\n",
    "        return connections"
   ]
  },
  {
   "cell_type": "code",
   "execution_count": 178,
   "metadata": {
    "ExecuteTime": {
     "end_time": "2017-10-14T22:51:36.076237Z",
     "start_time": "2017-10-14T22:51:34.908328Z"
    }
   },
   "outputs": [
    {
     "name": "stdout",
     "output_type": "stream",
     "text": [
      "2195671183 has 9 connections from 1215 friends and 10000 followers when using 2 pages\n",
      "msfhas 9 connections\n"
     ]
    }
   ],
   "source": [
    "# Change the value of nbr_of_pages to obtain more friends_ids and followers_ids\n",
    "# Warning : If the page number is too high, we will run into rate limitation!\n",
    "nbr_of_pages=2\n",
    "first_connections=find_connections(user_id,nbr_of_pages)\n",
    "print('{}has {} connections'.format(user, len(first_connections)))"
   ]
  },
  {
   "cell_type": "code",
   "execution_count": 179,
   "metadata": {
    "ExecuteTime": {
     "end_time": "2017-10-14T22:51:39.222562Z",
     "start_time": "2017-10-14T22:51:39.218976Z"
    }
   },
   "outputs": [
    {
     "name": "stdout",
     "output_type": "stream",
     "text": [
      "[          26786894          105862849          227459248\n",
      "          391380430          602646287         2535776912\n",
      " 784351656355897344 875658499186929664 904725709377167360]\n"
     ]
    }
   ],
   "source": [
    "print(first_connections)"
   ]
  },
  {
   "cell_type": "markdown",
   "metadata": {},
   "source": [
    "Collect your `first_nodes` and `second_nodes` and organize your collected nodes and their connections in the dictionary called `network`."
   ]
  },
  {
   "cell_type": "markdown",
   "metadata": {},
   "source": [
    "Hints:\n",
    "* Use `random.choice([1,3,4])` to randomly choose a number in `[1, 3, 4]`.\n",
    "* Use the `append` and `remove` methods to add and remove an element from a Python list.\n",
    "* The `pop` method removes the last item in the list."
   ]
  },
  {
   "cell_type": "code",
   "execution_count": 202,
   "metadata": {
    "ExecuteTime": {
     "end_time": "2017-10-14T23:05:57.382149Z",
     "start_time": "2017-10-14T23:05:57.378321Z"
    }
   },
   "outputs": [],
   "source": [
    "network={}\n",
    "first_nodes=[]\n",
    "second_nodes=[]\n",
    "how_many=2 #This is the number of connections you are sampling. \n",
    "           #Keep small (e.g.3) for development, larger later (e.g. 10)\n",
    "first_nodes=np.random.choice(first_connections, size=how_many,replace=False)"
   ]
  },
  {
   "cell_type": "markdown",
   "metadata": {},
   "source": [
    "**Be careful!** You should only keep a small value for the `how_many` parameter while you are developing your code. In order to answer to the questions you should raise the value of this parameter to `how_many=10` at least. This will take a while to execute because of the API rate limit (plan your time accordingly). You should also remember to submit your jupyter notebook with the **output shown for a large value of the `how_many` parameter**. "
   ]
  },
  {
   "cell_type": "code",
   "execution_count": 203,
   "metadata": {
    "ExecuteTime": {
     "end_time": "2017-10-14T23:06:01.876168Z",
     "start_time": "2017-10-14T23:06:01.874013Z"
    },
    "collapsed": true
   },
   "outputs": [],
   "source": [
    "network[user_id] = first_nodes"
   ]
  },
  {
   "cell_type": "code",
   "execution_count": 204,
   "metadata": {
    "ExecuteTime": {
     "end_time": "2017-10-14T23:06:02.738571Z",
     "start_time": "2017-10-14T23:06:02.733607Z"
    }
   },
   "outputs": [
    {
     "name": "stdout",
     "output_type": "stream",
     "text": [
      "{2195671183: array([784351656355897344, 875658499186929664])}\n"
     ]
    }
   ],
   "source": [
    "pprint(network)"
   ]
  },
  {
   "cell_type": "markdown",
   "metadata": {},
   "source": [
    "Lets find the connections of the second nodes"
   ]
  },
  {
   "cell_type": "code",
   "execution_count": 205,
   "metadata": {
    "ExecuteTime": {
     "end_time": "2017-10-14T23:06:11.451853Z",
     "start_time": "2017-10-14T23:06:10.061170Z"
    }
   },
   "outputs": [
    {
     "name": "stdout",
     "output_type": "stream",
     "text": [
      "784351656355897344 has 107 connections from 329 friends and 1347 followers when using 2 pages\n",
      "875658499186929664 has 10 connections from 66 friends and 27 followers when using 2 pages\n"
     ]
    }
   ],
   "source": [
    "# Loop over the nodes that are linked to the user_id\n",
    "# The goal is to find second nodes for each of those nodes\n",
    "# And to populate both the second_nodes array and the network dict\n",
    "for node in first_nodes:\n",
    "    # try/except/else for the case where the argument to np.random.choice is bad.\n",
    "    # It happens when the node doesn't allow us to check for its connections\n",
    "    try:\n",
    "        found_connections = np.random.choice(find_connections(node,nbr_of_pages), size=how_many, replace=False)\n",
    "    except:\n",
    "        print(\"The connections for node {} could not be gathered\".format(node))\n",
    "    else:\n",
    "        second_nodes.extend(found_connections)\n",
    "        network[node] = found_connections "
   ]
  },
  {
   "cell_type": "code",
   "execution_count": 208,
   "metadata": {
    "ExecuteTime": {
     "end_time": "2017-10-14T23:07:19.512955Z",
     "start_time": "2017-10-14T23:07:19.509004Z"
    },
    "run_control": {
     "marked": false
    }
   },
   "outputs": [
    {
     "name": "stdout",
     "output_type": "stream",
     "text": [
      "[784351656355897344 875658499186929664          304659846\n",
      "         2585985408           15030824         2195671183]\n"
     ]
    }
   ],
   "source": [
    "all_nodes=np.concatenate((first_nodes, second_nodes))\n",
    "print(all_nodes)"
   ]
  },
  {
   "cell_type": "code",
   "execution_count": 209,
   "metadata": {
    "ExecuteTime": {
     "end_time": "2017-10-14T23:07:35.642740Z",
     "start_time": "2017-10-14T23:07:35.636819Z"
    }
   },
   "outputs": [
    {
     "name": "stdout",
     "output_type": "stream",
     "text": [
      "There are 2 first hop nodes\n",
      "There are 4 second hop nodes\n",
      "There are overall 6 nodes in the collected network\n"
     ]
    }
   ],
   "source": [
    "print('There are {} first hop nodes'.format(len(first_nodes)))\n",
    "print('There are {} second hop nodes'.format(len(second_nodes)))\n",
    "print('There are overall {} nodes in the collected network'.format(len(all_nodes)))"
   ]
  },
  {
   "cell_type": "code",
   "execution_count": 210,
   "metadata": {
    "ExecuteTime": {
     "end_time": "2017-10-14T23:07:37.367007Z",
     "start_time": "2017-10-14T23:07:37.362502Z"
    },
    "collapsed": true
   },
   "outputs": [],
   "source": [
    "for i in second_nodes:\n",
    "    network[i]=[]"
   ]
  },
  {
   "cell_type": "markdown",
   "metadata": {},
   "source": [
    "Find the inner connections between your collected nodes that you might have missed because you sampled the connections."
   ]
  },
  {
   "cell_type": "code",
   "execution_count": 126,
   "metadata": {
    "ExecuteTime": {
     "end_time": "2017-10-14T22:31:11.712818Z",
     "start_time": "2017-10-14T22:31:11.362607Z"
    }
   },
   "outputs": [
    {
     "name": "stdout",
     "output_type": "stream",
     "text": [
      "Friendship(_api=<tweepy.api.API object at 0x7fb080674a20>, id=875658499186929664, id_str='875658499186929664', screen_name='JusDUnit', following=True, followed_by=True, live_following=False, following_received=None, following_requested=None, notifications_enabled=None, can_dm=True, blocking=None, blocked_by=None, muting=None, want_retweets=None, all_replies=None, marked_spam=None) \n",
      " Friendship(_api=<tweepy.api.API object at 0x7fb080674a20>, id=2195671183, id_str='2195671183', screen_name='MSF', following=True, followed_by=True, following_received=None, following_requested=None)\n",
      "True\n",
      "True\n"
     ]
    }
   ],
   "source": [
    "if DEBUG_INFO:\n",
    "    # Lets test how show friendship works, by comparing an element of first nodes\n",
    "    # with user_id\n",
    "    source, target = api.show_friendship(source_id=np.random.choice(first_nodes, 1)[0],target_id=user_id)\n",
    "\n",
    "    # Lets see what the result looks like\n",
    "    print(source,\"\\n\", target)\n",
    "    \n",
    "    # We see that we have the info if the source is following and\n",
    "    # if it is followed by the target. If we \"and\" those information\n",
    "    # we can test if there's a connection\n",
    "    print(source.following)\n",
    "    print(source.followed_by)"
   ]
  },
  {
   "cell_type": "code",
   "execution_count": 211,
   "metadata": {
    "ExecuteTime": {
     "end_time": "2017-10-14T23:07:43.078044Z",
     "start_time": "2017-10-14T23:07:43.066646Z"
    },
    "collapsed": true
   },
   "outputs": [],
   "source": [
    "def is_node_connection(source, target,network):\n",
    "    \"\"\"This function take a source node and a target node and says if they are connections\n",
    "        It assumes the dictionnary \"network\" has been declared in the environment\n",
    "    \"\"\"\n",
    "    # Make sure target is valid, i.e.:\n",
    "    # 1) it is not node\n",
    "    # 2) it is not a connection of node\n",
    "    # 3) doesn't have node as a connection\n",
    "    if not (target == node) and \\\n",
    "    not (node in network[target]) and \\\n",
    "    not (target in network[node]):\n",
    "        friendship_info = api.show_friendship(source_id=node, target_id=target)[0]\n",
    "        if friendship_info.following and friendship_info.followed_by:\n",
    "            return True\n",
    "        else:\n",
    "            return False"
   ]
  },
  {
   "cell_type": "code",
   "execution_count": 212,
   "metadata": {
    "ExecuteTime": {
     "end_time": "2017-10-14T23:07:45.435503Z",
     "start_time": "2017-10-14T23:07:45.426980Z"
    }
   },
   "outputs": [
    {
     "name": "stdout",
     "output_type": "stream",
     "text": [
      "{15030824: [],\n",
      " 304659846: [],\n",
      " 2195671183: [],\n",
      " 2585985408: [],\n",
      " 784351656355897344: array([ 304659846, 2585985408]),\n",
      " 875658499186929664: array([  15030824, 2195671183])}\n"
     ]
    }
   ],
   "source": [
    "pprint(network)"
   ]
  },
  {
   "cell_type": "code",
   "execution_count": 216,
   "metadata": {
    "ExecuteTime": {
     "end_time": "2017-10-14T23:10:43.822793Z",
     "start_time": "2017-10-14T23:10:37.698480Z"
    }
   },
   "outputs": [],
   "source": [
    "# Source node for connection comparison\n",
    "for node in all_nodes:\n",
    "    nodes_to_add = [target for target in all_nodes if is_node_connection(node, target,network)]\n",
    "    network[node] = np.union1d(network[node], nodes_to_add)"
   ]
  },
  {
   "cell_type": "code",
   "execution_count": 215,
   "metadata": {
    "ExecuteTime": {
     "end_time": "2017-10-14T23:08:59.003582Z",
     "start_time": "2017-10-14T23:08:58.998996Z"
    }
   },
   "outputs": [
    {
     "name": "stdout",
     "output_type": "stream",
     "text": [
      "{15030824: array([  2.19567118e+09]),\n",
      " 304659846: array([], dtype=float64),\n",
      " 2195671183: array([], dtype=float64),\n",
      " 2585985408: array([], dtype=float64),\n",
      " 784351656355897344: array([ 304659846, 2195671183, 2585985408]),\n",
      " 875658499186929664: array([  1.50308240e+07,   2.19567118e+09])}\n"
     ]
    }
   ],
   "source": [
    "pprint(network)"
   ]
  },
  {
   "cell_type": "markdown",
   "metadata": {},
   "source": [
    "# 2. Discover some of the properties of the collected network"
   ]
  },
  {
   "cell_type": "markdown",
   "metadata": {},
   "source": [
    "## 2.1 Adjacency matrix"
   ]
  },
  {
   "cell_type": "markdown",
   "metadata": {},
   "source": [
    "Congradulations! You have now created a dictionary that describes a real Twitter network!\n",
    "We now want to transform this dictionary into the adjacency (or weight) matrix that you learned about in your first class. "
   ]
  },
  {
   "cell_type": "code",
   "execution_count": 217,
   "metadata": {
    "ExecuteTime": {
     "end_time": "2017-10-14T23:11:30.917900Z",
     "start_time": "2017-10-14T23:11:30.915637Z"
    },
    "collapsed": true
   },
   "outputs": [],
   "source": [
    "W=np.zeros([len(all_nodes),len(all_nodes)], dtype=int)"
   ]
  },
  {
   "cell_type": "code",
   "execution_count": 221,
   "metadata": {
    "ExecuteTime": {
     "end_time": "2017-10-15T08:48:05.694671Z",
     "start_time": "2017-10-15T08:48:05.686650Z"
    }
   },
   "outputs": [],
   "source": [
    "for row in range(0,len(all_nodes)):\n",
    "    for col in range(0,len(all_nodes)):\n",
    "         # A node cannot be adjacent to itself\n",
    "        if row is col:    \n",
    "            W[row][col] = 0\n",
    "        #Check if there's an edge connectiong the nodes\n",
    "        elif (all_nodes[row] in network[all_nodes[col]]) or (all_nodes[col] in network[all_nodes[row]]):\n",
    "            W[row][col] = 1\n",
    "        else:\n",
    "            W[row][col] = 0"
   ]
  },
  {
   "cell_type": "markdown",
   "metadata": {},
   "source": [
    "Remember that a weight matrix should be symmetric. Check if it is:"
   ]
  },
  {
   "cell_type": "code",
   "execution_count": 222,
   "metadata": {
    "ExecuteTime": {
     "end_time": "2017-10-15T08:48:08.917047Z",
     "start_time": "2017-10-15T08:48:08.909664Z"
    }
   },
   "outputs": [
    {
     "data": {
      "text/plain": [
       "(array([], dtype=int64), array([], dtype=int64))"
      ]
     },
     "execution_count": 222,
     "metadata": {},
     "output_type": "execute_result"
    }
   ],
   "source": [
    "np.nonzero(W-W.transpose())"
   ]
  },
  {
   "cell_type": "markdown",
   "metadata": {},
   "source": [
    "**Question 1:**\n",
    "It might happen that $W \\neq W^{T} $ for some $(i,j)$. Explain why this might be the case."
   ]
  },
  {
   "cell_type": "markdown",
   "metadata": {},
   "source": [
    "**Your answer here:** If could have happened in the cases where a user doesn't let us check its contacts if we programmed differently. Indeed, if we used only the entry in the dictionary \"network\" associated with the node to populate the array, if the entry wouldn't contain a connection that is in the dictionary associated the other node, then there could be mismatch. Because we use both the dictionary entry for the node and the dictionary entry of its potential connection in the edge boolean detector, this case cannot happen."
   ]
  },
  {
   "cell_type": "markdown",
   "metadata": {},
   "source": [
    "Impose your weight matrix to be symmetric."
   ]
  },
  {
   "cell_type": "code",
   "execution_count": 223,
   "metadata": {
    "ExecuteTime": {
     "end_time": "2017-10-15T09:05:48.680910Z",
     "start_time": "2017-10-15T09:05:48.678313Z"
    },
    "collapsed": true
   },
   "outputs": [],
   "source": [
    "# Make W is symmetric\n",
    "bigger = W.transpose() > W"
   ]
  },
  {
   "cell_type": "code",
   "execution_count": 224,
   "metadata": {
    "ExecuteTime": {
     "end_time": "2017-10-15T09:05:53.701613Z",
     "start_time": "2017-10-15T09:05:53.697760Z"
    },
    "collapsed": true
   },
   "outputs": [],
   "source": [
    "W = W - W*bigger + W.transpose()*bigger"
   ]
  },
  {
   "cell_type": "markdown",
   "metadata": {},
   "source": [
    "Plot the weight matrix of your collected network.\n",
    "\n",
    "Hint: use `plt.spy()` to visualize a matrix."
   ]
  },
  {
   "cell_type": "code",
   "execution_count": 225,
   "metadata": {
    "ExecuteTime": {
     "end_time": "2017-10-15T09:06:02.199362Z",
     "start_time": "2017-10-15T09:06:02.074283Z"
    }
   },
   "outputs": [
    {
     "data": {
      "text/plain": [
       "<matplotlib.text.Text at 0x7fb0770d4908>"
      ]
     },
     "execution_count": 225,
     "metadata": {},
     "output_type": "execute_result"
    },
    {
     "data": {
      "image/png": "[encoded data removed]",
      "text/plain": [
       "<matplotlib.figure.Figure at 0x7fb075712dd8>"
      ]
     },
     "metadata": {},
     "output_type": "display_data"
    }
   ],
   "source": [
    "# your code here\n",
    "plt.title('Adjacency Matrix W')\n"
   ]
  },
  {
   "cell_type": "markdown",
   "metadata": {},
   "source": [
    "**Question 2:**\n",
    "What is the maximum number of links $L_{max}$ in a network with $N$ nodes (where $N$ is the number of nodes in your collected network)? How many links $L$ are there in your collected network? Comment on how $L$ and $L_{max}$ compare."
   ]
  },
  {
   "cell_type": "markdown",
   "metadata": {},
   "source": [
    "**Your answer here:**"
   ]
  },
  {
   "cell_type": "markdown",
   "metadata": {},
   "source": [
    "## 2.2 Degrees distribution"
   ]
  },
  {
   "cell_type": "markdown",
   "metadata": {},
   "source": [
    "Plot a histogram of the degree distribution. "
   ]
  },
  {
   "cell_type": "code",
   "execution_count": null,
   "metadata": {
    "collapsed": true
   },
   "outputs": [],
   "source": [
    "p = # your code here"
   ]
  },
  {
   "cell_type": "code",
   "execution_count": null,
   "metadata": {
    "collapsed": true
   },
   "outputs": [],
   "source": [
    "plt.hist(p);"
   ]
  },
  {
   "cell_type": "markdown",
   "metadata": {},
   "source": [
    "**Question 3:** Comment on the plot. What do you observe? Would you expect a similar degree disribution in the complete Twitter network?"
   ]
  },
  {
   "cell_type": "markdown",
   "metadata": {},
   "source": [
    "**Your answer here:**"
   ]
  },
  {
   "cell_type": "markdown",
   "metadata": {},
   "source": [
    "## 2.3 Average degree"
   ]
  },
  {
   "cell_type": "markdown",
   "metadata": {},
   "source": [
    "Calculate the average degree of your collected network."
   ]
  },
  {
   "cell_type": "code",
   "execution_count": null,
   "metadata": {
    "collapsed": true
   },
   "outputs": [],
   "source": [
    "d_avg = # your code here"
   ]
  },
  {
   "cell_type": "markdown",
   "metadata": {},
   "source": [
    "## 2.4 Diameter of the collected network"
   ]
  },
  {
   "cell_type": "markdown",
   "metadata": {},
   "source": [
    "**Question 4:** What is the diameter of the collected network? Please justify."
   ]
  },
  {
   "cell_type": "markdown",
   "metadata": {},
   "source": [
    "**Your answer here:**"
   ]
  },
  {
   "cell_type": "markdown",
   "metadata": {},
   "source": [
    "## 2.5 Pruning the collected network"
   ]
  },
  {
   "cell_type": "markdown",
   "metadata": {},
   "source": [
    "You might notice that some nodes have very few connections and hence our matrix is very sparse. Prune the collected network so that you keep only the nodes that have a degree that is greater than the average degree and plot the new adjacency matrix."
   ]
  },
  {
   "cell_type": "code",
   "execution_count": null,
   "metadata": {
    "collapsed": true
   },
   "outputs": [],
   "source": [
    "Wpruned = # your code here"
   ]
  },
  {
   "cell_type": "code",
   "execution_count": null,
   "metadata": {
    "collapsed": true
   },
   "outputs": [],
   "source": [
    "plt.spy(Wpruned, markersize=1)\n",
    "plt.title('Adjacency Matrix W');"
   ]
  }
 ],
 "metadata": {
  "kernelspec": {
   "display_name": "Python [default]",
   "language": "python",
   "name": "python3"
  },
  "language_info": {
   "codemirror_mode": {
    "name": "ipython",
    "version": 3
   },
   "file_extension": ".py",
   "mimetype": "text/x-python",
   "name": "python",
   "nbconvert_exporter": "python",
   "pygments_lexer": "ipython3",
   "version": "3.6.2"
  },
  "toc": {
   "nav_menu": {},
   "number_sections": true,
   "sideBar": true,
   "skip_h1_title": false,
   "toc_cell": false,
   "toc_position": {},
   "toc_section_display": "block",
   "toc_window_display": false
  },
  "varInspector": {
   "cols": {
    "lenName": 16,
    "lenType": 16,
    "lenVar": 40
   },
   "kernels_config": {
    "python": {
     "delete_cmd_postfix": "",
     "delete_cmd_prefix": "del ",
     "library": "var_list.py",
     "varRefreshCmd": "print(var_dic_list())"
    },
    "r": {
     "delete_cmd_postfix": ") ",
     "delete_cmd_prefix": "rm(",
     "library": "var_list.r",
     "varRefreshCmd": "cat(var_dic_list()) "
    }
   },
   "position": {
    "height": "515px",
    "left": "560px",
    "right": "20px",
    "top": "120px",
    "width": "350px"
   },
   "types_to_exclude": [
    "module",
    "function",
    "builtin_function_or_method",
    "instance",
    "_Feature"
   ],
   "window_display": false
  }
 },
 "nbformat": 4,
 "nbformat_minor": 1
}
