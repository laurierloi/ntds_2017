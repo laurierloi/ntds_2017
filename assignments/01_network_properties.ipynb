{
 "cells": [
  {
   "cell_type": "markdown",
   "metadata": {},
   "source": [
    "# Collect and Analyze a Twitter Network\n",
    "[Effrosyni Simou](http://lts4.epfl.ch/simou), *PhD Student*, [EPFL](http://epfl.ch) [LTS4](http://lts4.epfl.ch)"
   ]
  },
  {
   "cell_type": "markdown",
   "metadata": {},
   "source": [
    "# Objective of Exercise\n",
    "The aim of this exercise is to learn how to create your own, real network using data collected from the Internet and then to discover some properties of the collected network. "
   ]
  },
  {
   "cell_type": "markdown",
   "metadata": {},
   "source": [
    "# Resources\n",
    "You might want to have a look at the following resources before starting:\n",
    "\n",
    "* [Twitter REST API](https://dev.twitter.com/rest/public)\n",
    "* [Tweepy Documentation](http://tweepy.readthedocs.io/en/v3.5.0/)\n",
    "* [Tutorial \"Mining Twitter data with Python\"](https://marcobonzanini.com/2015/03/02/mining-twitter-data-with-python-part-1/)"
   ]
  },
  {
   "cell_type": "markdown",
   "metadata": {},
   "source": [
    "# 1. Collect a Twitter Network"
   ]
  },
  {
   "cell_type": "markdown",
   "metadata": {},
   "source": [
    "In order to collect data from Twitter you will need to generate access tokens.  To do this you will need to register a [client application with Twitter](https://apps.twitter.com/). Once you are done you should have your tokens. You can now create a `credentials.ini` file as follows:\n",
    "```\n",
    "[twitter]\n",
    "consumer_key = YOUR-CONSUMER-KEY\n",
    "consumer_secret = YOUR-CONSUMER-SECRET\n",
    "access_token = YOUR-ACCESS-TOKEN\n",
    "access_secret = YOUR-ACCESS-SECRET\n",
    "```\n",
    "In this way you will have this information readily available to you. "
   ]
  },
  {
   "cell_type": "code",
   "execution_count": 398,
   "metadata": {
    "ExecuteTime": {
     "end_time": "2017-10-15T12:27:55.343630Z",
     "start_time": "2017-10-15T12:27:55.334022Z"
    }
   },
   "outputs": [],
   "source": [
    "%matplotlib inline\n",
    "\n",
    "import random\n",
    "import configparser\n",
    "import matplotlib.pyplot as plt\n",
    "import numpy as np\n",
    "import pandas as pd\n",
    "from pprint import pprint\n",
    "import tweepy  # you will need to install tweepy first\n",
    "# We want to visualize the network we create, to do so we will use networkx\n",
    "import networkx as nx # WARNING: Library not included in the standard notebook"
   ]
  },
  {
   "cell_type": "code",
   "execution_count": 174,
   "metadata": {
    "ExecuteTime": {
     "end_time": "2017-10-14T22:51:24.214528Z",
     "start_time": "2017-10-14T22:51:24.212327Z"
    },
    "collapsed": true
   },
   "outputs": [],
   "source": [
    "# Variable used to print degug information in this notebook\n",
    "DEBUG_INFO = True"
   ]
  },
  {
   "cell_type": "code",
   "execution_count": 424,
   "metadata": {
    "ExecuteTime": {
     "end_time": "2017-10-15T12:44:59.316675Z",
     "start_time": "2017-10-15T12:44:59.309433Z"
    },
    "collapsed": true
   },
   "outputs": [],
   "source": [
    "# Read the confidential token.\n",
    "credentials = configparser.ConfigParser()\n",
    "credentials.read('credentials.ini')\n",
    "\n",
    "#authentication\n",
    "auth = tweepy.OAuthHandler(credentials.get('twitter', 'consumer_key'), credentials.get('twitter', 'consumer_secret'))\n",
    "auth.set_access_token(credentials.get('twitter', 'access_token'), credentials.get('twitter', 'access_secret'))\n",
    "\n",
    "#construct API instance\n",
    "#deal with rate limits and notify when delayed because of rate limits\n",
    "api = tweepy.API(auth,wait_on_rate_limit=True, wait_on_rate_limit_notify=True)"
   ]
  },
  {
   "cell_type": "markdown",
   "metadata": {},
   "source": [
    "Now you are all set up to start collecting data from Twitter! "
   ]
  },
  {
   "cell_type": "markdown",
   "metadata": {},
   "source": [
    "In this exercise we will construct a network with the following logic:\n",
    "\n",
    "1) We will chose a `user_id` in Twitter to be our first node. \n",
    "\n",
    "2) We will find (some) of the users who are both following `user_id` and are being followed by `user_id`. From now on we will call such users \"connections\" of `user_id`. We will place these user ids in a list called `first_nodes`. \n",
    "\n",
    "3) For every node in the list `first_nodes` we will then find (some) of the users who are following and are being followed by this node (aka the connections of this node). The user ids collected in this step will be placed in a list called `second_nodes`.\n",
    "\n",
    "4) The collection of the ids of all nodes (aka Twitter users) that we have collected so far will be placed in a list called `all_nodes`.\n",
    "\n",
    "5) Since we have only collected a subset of all possible \"connections\" for our nodes we have to check if there are any remaining inner connections that we have missed.\n",
    "\n",
    "The entire network is to be organized in a dictionary with entries that will have as key the Twitter id of the user (this is a number characterizing each user in Twitter) and as value the list of ids of his connections.\n",
    "\n",
    "So, let us begin. The first thing that you will have to do is to chose the node from which everything will start. I have chosen the Twitter account of [Applied Machine Learning Days](https://www.appliedmldays.org) that will take place in January 2018 in EPFL. You may change that if you wish to, but please make sure that the user you chose has both followers and friends and that he allows you to access this data."
   ]
  },
  {
   "cell_type": "code",
   "execution_count": 425,
   "metadata": {
    "ExecuteTime": {
     "end_time": "2017-10-15T12:45:02.724455Z",
     "start_time": "2017-10-15T12:45:02.310775Z"
    },
    "collapsed": true
   },
   "outputs": [],
   "source": [
    "user = 'msf'\n",
    "user_id=api.get_user(user).id"
   ]
  },
  {
   "cell_type": "markdown",
   "metadata": {},
   "source": [
    "In the following cell write a function that takes as an argument the Twitter id of a user and returns a list with the **ids** of his connections. Take into account the case where a user does not allow you to access this information.\n",
    "\n",
    "**Reminder:** By connections we mean users that are both followers and friends of a given user."
   ]
  },
  {
   "cell_type": "code",
   "execution_count": 426,
   "metadata": {
    "ExecuteTime": {
     "end_time": "2017-10-15T12:45:04.594357Z",
     "start_time": "2017-10-15T12:45:04.577936Z"
    }
   },
   "outputs": [],
   "source": [
    "def find_connections(user_id,nbr_of_pages=1):\n",
    "    followers = []\n",
    "    friends=[]\n",
    "    try:\n",
    "        for part_friends in tweepy.Cursor(api.friends_ids, id=user_id).pages(nbr_of_pages):\n",
    "            friends.extend(part_friends)\n",
    "        for part_followers in tweepy.Cursor(api.followers_ids, id=user_id).pages(nbr_of_pages):\n",
    "            followers.extend(part_followers)\n",
    "    except tweepy.TweepError as e:\n",
    "        # Manage errors from the tweepy API. We simply print the error information\n",
    "        print(\"Error while finding connections!\\n\\tReason:\",\n",
    "              \"{}\\n\\tResponse: {}\\n\\tAPI Code: {}\".format(e.reason, e.response, e.api_code))\n",
    "        return None\n",
    "    else:\n",
    "        connections = np.intersect1d(friends, followers)\n",
    "        # Print some debug information related to the s\n",
    "        if DEBUG_INFO:\n",
    "            print(\"{} has {} connections from {} friends and {} followers when using {} pages\".format(\n",
    "                user_id, len(connections), len(friends), len(followers), nbr_of_pages)\n",
    "                 )\n",
    "        return connections"
   ]
  },
  {
   "cell_type": "code",
   "execution_count": 427,
   "metadata": {
    "ExecuteTime": {
     "end_time": "2017-10-15T12:45:08.112943Z",
     "start_time": "2017-10-15T12:45:06.908423Z"
    }
   },
   "outputs": [
    {
     "name": "stdout",
     "output_type": "stream",
     "text": [
      "2195671183 has 9 connections from 1215 friends and 10000 followers when using 2 pages\n",
      "msfhas 9 connections\n"
     ]
    }
   ],
   "source": [
    "# Change the value of nbr_of_pages to obtain more friends_ids and followers_ids\n",
    "# Warning : If the page number is too high, we will run into rate limitation!\n",
    "nbr_of_pages=2\n",
    "first_connections=find_connections(user_id,nbr_of_pages)\n",
    "print('{}has {} connections'.format(user, len(first_connections)))"
   ]
  },
  {
   "cell_type": "code",
   "execution_count": 428,
   "metadata": {
    "ExecuteTime": {
     "end_time": "2017-10-15T12:45:12.616395Z",
     "start_time": "2017-10-15T12:45:12.612341Z"
    }
   },
   "outputs": [
    {
     "name": "stdout",
     "output_type": "stream",
     "text": [
      "[          26786894          105862849          227459248\n",
      "          391380430          602646287         2535776912\n",
      " 784351656355897344 875658499186929664 904725709377167360]\n"
     ]
    }
   ],
   "source": [
    "print(first_connections)"
   ]
  },
  {
   "cell_type": "markdown",
   "metadata": {},
   "source": [
    "Collect your `first_nodes` and `second_nodes` and organize your collected nodes and their connections in the dictionary called `network`."
   ]
  },
  {
   "cell_type": "markdown",
   "metadata": {},
   "source": [
    "Hints:\n",
    "* Use `random.choice([1,3,4])` to randomly choose a number in `[1, 3, 4]`.\n",
    "* Use the `append` and `remove` methods to add and remove an element from a Python list.\n",
    "* The `pop` method removes the last item in the list."
   ]
  },
  {
   "cell_type": "code",
   "execution_count": 429,
   "metadata": {
    "ExecuteTime": {
     "end_time": "2017-10-15T12:45:16.417393Z",
     "start_time": "2017-10-15T12:45:16.412346Z"
    }
   },
   "outputs": [],
   "source": [
    "network={}\n",
    "first_nodes=[]\n",
    "second_nodes=[]\n",
    "how_many=2 #This is the number of connections you are sampling. \n",
    "           #Keep small (e.g.3) for development, larger later (e.g. 10)\n",
    "first_nodes=np.random.choice(first_connections, size=how_many,replace=False)"
   ]
  },
  {
   "cell_type": "markdown",
   "metadata": {},
   "source": [
    "**Be careful!** You should only keep a small value for the `how_many` parameter while you are developing your code. In order to answer to the questions you should raise the value of this parameter to `how_many=10` at least. This will take a while to execute because of the API rate limit (plan your time accordingly). You should also remember to submit your jupyter notebook with the **output shown for a large value of the `how_many` parameter**. "
   ]
  },
  {
   "cell_type": "code",
   "execution_count": 430,
   "metadata": {
    "ExecuteTime": {
     "end_time": "2017-10-15T12:45:19.751626Z",
     "start_time": "2017-10-15T12:45:19.746209Z"
    },
    "collapsed": true
   },
   "outputs": [],
   "source": [
    "network[user_id] = first_nodes"
   ]
  },
  {
   "cell_type": "code",
   "execution_count": 431,
   "metadata": {
    "ExecuteTime": {
     "end_time": "2017-10-15T12:45:21.172872Z",
     "start_time": "2017-10-15T12:45:21.168734Z"
    }
   },
   "outputs": [
    {
     "name": "stdout",
     "output_type": "stream",
     "text": [
      "{2195671183: array([  26786894, 2535776912])}\n"
     ]
    }
   ],
   "source": [
    "pprint(network)"
   ]
  },
  {
   "cell_type": "markdown",
   "metadata": {},
   "source": [
    "Lets find the connections of the second nodes"
   ]
  },
  {
   "cell_type": "code",
   "execution_count": 432,
   "metadata": {
    "ExecuteTime": {
     "end_time": "2017-10-15T12:45:55.701049Z",
     "start_time": "2017-10-15T12:45:24.018620Z"
    }
   },
   "outputs": [
    {
     "name": "stdout",
     "output_type": "stream",
     "text": [
      "Rate limit reached. Sleeping for: 25\n",
      "26786894 has 424 connections from 709 friends and 7188 followers when using 2 pages\n",
      "2535776912 has 20 connections from 73 friends and 186 followers when using 2 pages\n"
     ]
    }
   ],
   "source": [
    "# Loop over the nodes that are linked to the user_id\n",
    "# The goal is to find second nodes for each of those nodes\n",
    "# And to populate both the second_nodes array and the network dict\n",
    "for node in first_nodes:\n",
    "    # try/except/else for the case where the argument to np.random.choice is bad.\n",
    "    # It happens when the node doesn't allow us to check for its connections\n",
    "    try:\n",
    "        found_connections = np.random.choice(find_connections(node,nbr_of_pages), size=how_many, replace=False)\n",
    "    except:\n",
    "        print(\"The connections for node {} could not be gathered\".format(node))\n",
    "    else:\n",
    "        second_nodes.extend(found_connections)\n",
    "        # Add the source node and the connections nodes\n",
    "        network[node] = np.append(found_connections, user_id) "
   ]
  },
  {
   "cell_type": "code",
   "execution_count": 433,
   "metadata": {
    "ExecuteTime": {
     "end_time": "2017-10-15T12:46:07.942989Z",
     "start_time": "2017-10-15T12:46:07.938979Z"
    },
    "run_control": {
     "marked": false
    }
   },
   "outputs": [
    {
     "name": "stdout",
     "output_type": "stream",
     "text": [
      "[          26786894         2535776912          616271489\n",
      " 821794140375699457          499107662           34388075]\n"
     ]
    }
   ],
   "source": [
    "all_nodes=np.concatenate((first_nodes, second_nodes))\n",
    "print(all_nodes)"
   ]
  },
  {
   "cell_type": "code",
   "execution_count": 434,
   "metadata": {
    "ExecuteTime": {
     "end_time": "2017-10-15T12:46:17.434701Z",
     "start_time": "2017-10-15T12:46:17.429108Z"
    }
   },
   "outputs": [
    {
     "name": "stdout",
     "output_type": "stream",
     "text": [
      "There are 2 first hop nodes\n",
      "There are 4 second hop nodes\n",
      "There are overall 6 nodes in the collected network\n"
     ]
    }
   ],
   "source": [
    "print('There are {} first hop nodes'.format(len(first_nodes)))\n",
    "print('There are {} second hop nodes'.format(len(second_nodes)))\n",
    "print('There are overall {} nodes in the collected network'.format(len(all_nodes)))"
   ]
  },
  {
   "cell_type": "code",
   "execution_count": 435,
   "metadata": {
    "ExecuteTime": {
     "end_time": "2017-10-15T12:46:20.760317Z",
     "start_time": "2017-10-15T12:46:20.756515Z"
    },
    "collapsed": true
   },
   "outputs": [],
   "source": [
    "for i in second_nodes:\n",
    "    network[i]=[]"
   ]
  },
  {
   "cell_type": "markdown",
   "metadata": {},
   "source": [
    "Find the inner connections between your collected nodes that you might have missed because you sampled the connections."
   ]
  },
  {
   "cell_type": "code",
   "execution_count": 436,
   "metadata": {
    "ExecuteTime": {
     "end_time": "2017-10-15T12:46:24.879611Z",
     "start_time": "2017-10-15T12:46:24.549200Z"
    }
   },
   "outputs": [
    {
     "name": "stdout",
     "output_type": "stream",
     "text": [
      "Friendship(_api=<tweepy.api.API object at 0x7fb05e326390>, id=2535776912, id_str='2535776912', screen_name='MSF_imprensa', following=True, followed_by=True, live_following=False, following_received=None, following_requested=None, notifications_enabled=None, can_dm=True, blocking=None, blocked_by=None, muting=None, want_retweets=None, all_replies=None, marked_spam=None) \n",
      " Friendship(_api=<tweepy.api.API object at 0x7fb05e326390>, id=2195671183, id_str='2195671183', screen_name='MSF', following=True, followed_by=True, following_received=None, following_requested=None)\n",
      "True\n",
      "True\n"
     ]
    }
   ],
   "source": [
    "if DEBUG_INFO:\n",
    "    # Lets test how show friendship works, by comparing an element of first nodes\n",
    "    # with user_id\n",
    "    source, target = api.show_friendship(source_id=np.random.choice(first_nodes, 1)[0],target_id=user_id)\n",
    "\n",
    "    # Lets see what the result looks like\n",
    "    print(source,\"\\n\", target)\n",
    "    \n",
    "    # We see that we have the info if the source is following and\n",
    "    # if it is followed by the target. If we \"and\" those information\n",
    "    # we can test if there's a connection\n",
    "    print(source.following)\n",
    "    print(source.followed_by)"
   ]
  },
  {
   "cell_type": "code",
   "execution_count": 437,
   "metadata": {
    "ExecuteTime": {
     "end_time": "2017-10-15T12:46:29.239480Z",
     "start_time": "2017-10-15T12:46:29.225186Z"
    },
    "collapsed": true
   },
   "outputs": [],
   "source": [
    "def should_add_node_as_connection(source, target,network):\n",
    "    \"\"\"This function take a source node and a target node and says if they are connections\n",
    "        It assumes the dictionnary \"network\" has been declared in the environment\n",
    "    \"\"\"\n",
    "    # Check for trivial cases \n",
    "    # 1) it is source\n",
    "    if target == source:\n",
    "        return False\n",
    "    # 2) it is not a connection of source\n",
    "    elif target in network[source]:\n",
    "        return False\n",
    "    # Check if we already have the required information\n",
    "    elif source in network[target]:\n",
    "        return True\n",
    "    # Otherwise use the twitter API\n",
    "    else:\n",
    "        friendship_info = api.show_friendship(source_id=node, target_id=target)[0]\n",
    "        if friendship_info.following and friendship_info.followed_by:\n",
    "            return True\n",
    "        else:\n",
    "            return False"
   ]
  },
  {
   "cell_type": "code",
   "execution_count": 438,
   "metadata": {
    "ExecuteTime": {
     "end_time": "2017-10-15T12:46:31.852060Z",
     "start_time": "2017-10-15T12:46:31.846546Z"
    }
   },
   "outputs": [
    {
     "name": "stdout",
     "output_type": "stream",
     "text": [
      "{26786894: array([         616271489, 821794140375699457,         2195671183]),\n",
      " 34388075: [],\n",
      " 499107662: [],\n",
      " 616271489: [],\n",
      " 2195671183: array([  26786894, 2535776912]),\n",
      " 2535776912: array([ 499107662,   34388075, 2195671183]),\n",
      " 821794140375699457: []}\n"
     ]
    }
   ],
   "source": [
    "pprint(network)"
   ]
  },
  {
   "cell_type": "code",
   "execution_count": 439,
   "metadata": {
    "ExecuteTime": {
     "end_time": "2017-10-15T12:46:44.446781Z",
     "start_time": "2017-10-15T12:46:35.544180Z"
    }
   },
   "outputs": [],
   "source": [
    "# Source node for connection comparison\n",
    "for node in all_nodes:\n",
    "    nodes_to_add = [target for target in all_nodes if should_add_node_as_connection(node, target,network)]\n",
    "    network[node] = np.union1d(network[node], nodes_to_add)"
   ]
  },
  {
   "cell_type": "code",
   "execution_count": 440,
   "metadata": {
    "ExecuteTime": {
     "end_time": "2017-10-15T12:46:51.952680Z",
     "start_time": "2017-10-15T12:46:51.945519Z"
    }
   },
   "outputs": [
    {
     "name": "stdout",
     "output_type": "stream",
     "text": [
      "{26786894: array([  6.16271489e+08,   2.19567118e+09,   8.21794140e+17]),\n",
      " 34388075: array([  2.53577691e+09]),\n",
      " 499107662: array([  2.53577691e+09]),\n",
      " 616271489: array([ 26786894.]),\n",
      " 2195671183: array([  26786894, 2535776912]),\n",
      " 2535776912: array([  3.43880750e+07,   4.99107662e+08,   2.19567118e+09]),\n",
      " 821794140375699457: array([ 26786894.])}\n"
     ]
    }
   ],
   "source": [
    "pprint(network)"
   ]
  },
  {
   "cell_type": "code",
   "execution_count": 441,
   "metadata": {
    "ExecuteTime": {
     "end_time": "2017-10-15T12:46:56.056084Z",
     "start_time": "2017-10-15T12:46:55.911347Z"
    }
   },
   "outputs": [
    {
     "data": {
      "image/png": "[encoded data removed]",
      "text/plain": [
       "<matplotlib.figure.Figure at 0x7fb074286400>"
      ]
     },
     "metadata": {},
     "output_type": "display_data"
    }
   ],
   "source": [
    "# Visualize the graph\n",
    "network_graph = nx.Graph(network)\n",
    "nx.draw_networkx(network_graph)"
   ]
  },
  {
   "cell_type": "markdown",
   "metadata": {},
   "source": [
    "# 2. Discover some of the properties of the collected network"
   ]
  },
  {
   "cell_type": "markdown",
   "metadata": {},
   "source": [
    "## 2.1 Adjacency matrix"
   ]
  },
  {
   "cell_type": "markdown",
   "metadata": {},
   "source": [
    "Congradulations! You have now created a dictionary that describes a real Twitter network!\n",
    "We now want to transform this dictionary into the adjacency (or weight) matrix that you learned about in your first class. "
   ]
  },
  {
   "cell_type": "code",
   "execution_count": 442,
   "metadata": {
    "ExecuteTime": {
     "end_time": "2017-10-15T12:47:10.743581Z",
     "start_time": "2017-10-15T12:47:10.740995Z"
    },
    "collapsed": true
   },
   "outputs": [],
   "source": [
    "W=np.zeros([len(all_nodes),len(all_nodes)], dtype=int)"
   ]
  },
  {
   "cell_type": "code",
   "execution_count": 443,
   "metadata": {
    "ExecuteTime": {
     "end_time": "2017-10-15T12:47:11.360185Z",
     "start_time": "2017-10-15T12:47:11.351431Z"
    }
   },
   "outputs": [],
   "source": [
    "for row in range(0,len(all_nodes)):\n",
    "    for col in range(0,len(all_nodes)):\n",
    "         # A node cannot be adjacent to itself\n",
    "        if row is col:    \n",
    "            W[row][col] = 0\n",
    "        #Check if there's an edge connectiong the nodes\n",
    "        elif (all_nodes[row] in network[all_nodes[col]]) or (all_nodes[col] in network[all_nodes[row]]):\n",
    "            W[row][col] = 1\n",
    "        else:\n",
    "            W[row][col] = 0"
   ]
  },
  {
   "cell_type": "markdown",
   "metadata": {},
   "source": [
    "Remember that a weight matrix should be symmetric. Check if it is:"
   ]
  },
  {
   "cell_type": "code",
   "execution_count": 444,
   "metadata": {
    "ExecuteTime": {
     "end_time": "2017-10-15T12:47:15.172892Z",
     "start_time": "2017-10-15T12:47:15.167081Z"
    }
   },
   "outputs": [
    {
     "data": {
      "text/plain": [
       "(array([], dtype=int64), array([], dtype=int64))"
      ]
     },
     "execution_count": 444,
     "metadata": {},
     "output_type": "execute_result"
    }
   ],
   "source": [
    "np.nonzero(W-W.transpose())"
   ]
  },
  {
   "cell_type": "markdown",
   "metadata": {},
   "source": [
    "**Question 1:**\n",
    "It might happen that $W \\neq W^{T} $ for some $(i,j)$. Explain why this might be the case."
   ]
  },
  {
   "cell_type": "markdown",
   "metadata": {},
   "source": [
    "**Your answer here:** If could have happened in the cases where a user doesn't let us check its contacts if we programmed differently. Indeed, if we used only the entry in the dictionary \"network\" associated with the node to populate the array, if the entry wouldn't contain a connection that is in the dictionary associated the other node, then there could be mismatch. Because we use both the dictionary entry for the node and the dictionary entry of its potential connection in the edge boolean detector, this case cannot happen."
   ]
  },
  {
   "cell_type": "markdown",
   "metadata": {},
   "source": [
    "Impose your weight matrix to be symmetric."
   ]
  },
  {
   "cell_type": "code",
   "execution_count": 445,
   "metadata": {
    "ExecuteTime": {
     "end_time": "2017-10-15T12:47:22.336030Z",
     "start_time": "2017-10-15T12:47:22.333796Z"
    },
    "collapsed": true
   },
   "outputs": [],
   "source": [
    "# Make W is symmetric\n",
    "bigger = W.transpose() > W"
   ]
  },
  {
   "cell_type": "code",
   "execution_count": 446,
   "metadata": {
    "ExecuteTime": {
     "end_time": "2017-10-15T12:47:23.055791Z",
     "start_time": "2017-10-15T12:47:23.049991Z"
    },
    "collapsed": true
   },
   "outputs": [],
   "source": [
    "W = W - W*bigger + W.transpose()*bigger"
   ]
  },
  {
   "cell_type": "markdown",
   "metadata": {},
   "source": [
    "Plot the weight matrix of your collected network.\n",
    "\n",
    "Hint: use `plt.spy()` to visualize a matrix."
   ]
  },
  {
   "cell_type": "code",
   "execution_count": null,
   "metadata": {
    "collapsed": true
   },
   "outputs": [],
   "source": []
  },
  {
   "cell_type": "code",
   "execution_count": 396,
   "metadata": {
    "ExecuteTime": {
     "end_time": "2017-10-15T12:22:44.667356Z",
     "start_time": "2017-10-15T12:22:44.554977Z"
    }
   },
   "outputs": [
    {
     "data": {
      "text/plain": [
       "<matplotlib.lines.Line2D at 0x7fb06c12fcf8>"
      ]
     },
     "execution_count": 396,
     "metadata": {},
     "output_type": "execute_result"
    },
    {
     "data": {
      "image/png": "[encoded data removed]",
      "text/plain": [
       "<matplotlib.figure.Figure at 0x7fb06c12f5c0>"
      ]
     },
     "metadata": {},
     "output_type": "display_data"
    }
   ],
   "source": [
    "# your code here\n",
    "plt.title('Adjacency Matrix W')\n",
    "plt.spy(W,markersize=5)"
   ]
  },
  {
   "cell_type": "markdown",
   "metadata": {},
   "source": [
    "**Question 2:**\n",
    "What is the maximum number of links $L_{max}$ in a network with $N$ nodes (where $N$ is the number of nodes in your collected network)? How many links $L$ are there in your collected network? Comment on how $L$ and $L_{max}$ compare."
   ]
  },
  {
   "cell_type": "markdown",
   "metadata": {},
   "source": [
    "**Your answer here:**\n",
    "* Maximum number of links : the maximum number of links is attained when every node is connected to every other node. It is given by:\n",
    "$$ L_{max} = (N*N-1) / 2$$\n",
    "N-1 used to remove the diagonal from the count"
   ]
  },
  {
   "cell_type": "code",
   "execution_count": 241,
   "metadata": {
    "ExecuteTime": {
     "end_time": "2017-10-15T09:36:44.126849Z",
     "start_time": "2017-10-15T09:36:44.124016Z"
    }
   },
   "outputs": [
    {
     "name": "stdout",
     "output_type": "stream",
     "text": [
      "15.0\n"
     ]
    }
   ],
   "source": [
    "Lmax=len(W)*(len(W)-1) /2\n",
    "print(Lmax)"
   ]
  },
  {
   "cell_type": "markdown",
   "metadata": {},
   "source": [
    "* How many links in collected network\n",
    "We simply have to make the sum of the links in the network and divide it by two \n",
    "$$ L_W = \\frac{1}{2} \\sum_{i=0}^{len(W)-1}\\sum_{j=0}^{len(W[0])-1}W(i)(j)$$"
   ]
  },
  {
   "cell_type": "code",
   "execution_count": 244,
   "metadata": {
    "ExecuteTime": {
     "end_time": "2017-10-15T09:40:57.256701Z",
     "start_time": "2017-10-15T09:40:57.253512Z"
    }
   },
   "outputs": [
    {
     "name": "stdout",
     "output_type": "stream",
     "text": [
      "Tere are 6.0 links in the collected network\n"
     ]
    }
   ],
   "source": [
    "LW = np.sum(W)/2\n",
    "print(\"Tere are {} links in the collected network\".format(LW))"
   ]
  },
  {
   "cell_type": "markdown",
   "metadata": {},
   "source": [
    "* Comment on how L and Lmax compare\n",
    "<span class=\"burk\">TODO: Do this once we have the complete dataset</span>"
   ]
  },
  {
   "cell_type": "markdown",
   "metadata": {},
   "source": [
    "## 2.2 Degrees distribution"
   ]
  },
  {
   "cell_type": "markdown",
   "metadata": {},
   "source": [
    "Plot a histogram of the degree distribution. "
   ]
  },
  {
   "cell_type": "code",
   "execution_count": 379,
   "metadata": {
    "ExecuteTime": {
     "end_time": "2017-10-15T11:13:32.303268Z",
     "start_time": "2017-10-15T11:13:32.300942Z"
    }
   },
   "outputs": [],
   "source": [
    "p = [np.sum(W[index]) for index in range(0, len(W))]"
   ]
  },
  {
   "cell_type": "code",
   "execution_count": 380,
   "metadata": {
    "ExecuteTime": {
     "end_time": "2017-10-15T11:13:34.786395Z",
     "start_time": "2017-10-15T11:13:34.661831Z"
    },
    "run_control": {
     "marked": true
    }
   },
   "outputs": [
    {
     "data": {
      "image/png": "[encoded data removed]",
      "text/plain": [
       "<matplotlib.figure.Figure at 0x7fb06c0a4fd0>"
      ]
     },
     "metadata": {},
     "output_type": "display_data"
    }
   ],
   "source": [
    "plt.hist(p, bins=range(0,np.amax(nbr_links)+2), normed=True, rwidth = 0.5, align='left')\n",
    "plt.title(\"Degree distribution of the Weight matrix\")\n",
    "plt.xlabel(\"Number of links\")\n",
    "plt.ylabel(\"Probability of occurence\")\n",
    "plt.show()"
   ]
  },
  {
   "cell_type": "markdown",
   "metadata": {},
   "source": [
    "**Question 3:** Comment on the plot. What do you observe? Would you expect a similar degree disribution in the complete Twitter network?"
   ]
  },
  {
   "cell_type": "markdown",
   "metadata": {},
   "source": [
    "**Your answer here:**\n",
    "TODO: Answer once final data are obtained"
   ]
  },
  {
   "cell_type": "markdown",
   "metadata": {},
   "source": [
    "## 2.3 Average degree"
   ]
  },
  {
   "cell_type": "markdown",
   "metadata": {},
   "source": [
    "Calculate the average degree of your collected network."
   ]
  },
  {
   "cell_type": "code",
   "execution_count": 382,
   "metadata": {
    "ExecuteTime": {
     "end_time": "2017-10-15T11:33:22.282365Z",
     "start_time": "2017-10-15T11:33:22.279602Z"
    }
   },
   "outputs": [
    {
     "name": "stdout",
     "output_type": "stream",
     "text": [
      "2.0\n"
     ]
    }
   ],
   "source": [
    "d_avg = np.average(p)\n",
    "print(d_avg)"
   ]
  },
  {
   "cell_type": "markdown",
   "metadata": {},
   "source": [
    "## 2.4 Diameter of the collected network"
   ]
  },
  {
   "cell_type": "markdown",
   "metadata": {},
   "source": [
    "**Question 4:** What is the diameter of the collected network? Please justify."
   ]
  },
  {
   "cell_type": "markdown",
   "metadata": {},
   "source": [
    "Our graph originates with the twitter page of the \"user_id\" user, we will call the associated node \"Source\". Every nodes is added with a link to the Source node or with a link to a node that has a link to the Source node. Because of this, the longest path from any node to the source is 2. Even without seeing the actual graph, we can infer from this that the diameter of the network has an upper boundary of 4: any two pair of nodes that we will connect together have a maximum distance to the Source of 2 and therefore a maximum distance between them of 4.\n",
    "\n",
    "<span class=\"burk\">TODO: specific case once we have the final results(real diagram of network)</span>"
   ]
  },
  {
   "cell_type": "markdown",
   "metadata": {},
   "source": [
    "**Your answer here:**"
   ]
  },
  {
   "cell_type": "markdown",
   "metadata": {},
   "source": [
    "## 2.5 Pruning the collected network"
   ]
  },
  {
   "cell_type": "markdown",
   "metadata": {},
   "source": [
    "You might notice that some nodes have very few connections and hence our matrix is very sparse. Prune the collected network so that you keep only the nodes that have a degree that is greater than the average degree and plot the new adjacency matrix."
   ]
  },
  {
   "cell_type": "code",
   "execution_count": 397,
   "metadata": {
    "ExecuteTime": {
     "end_time": "2017-10-15T12:24:02.291657Z",
     "start_time": "2017-10-15T12:24:02.287345Z"
    }
   },
   "outputs": [
    {
     "name": "stdout",
     "output_type": "stream",
     "text": [
      "[0 0 1 1 0 1]\n",
      "[0 0 0 0 1 1]\n",
      "[1 0 0 0 0 0]\n",
      "[1 0 0 0 0 0]\n",
      "[0 1 0 0 0 1]\n",
      "[1 1 0 0 1 0]\n"
     ]
    }
   ],
   "source": [
    "for row in W:\n",
    "    if np.sum()\n",
    "Wpruned = 1# your code here"
   ]
  },
  {
   "cell_type": "code",
   "execution_count": null,
   "metadata": {
    "collapsed": true
   },
   "outputs": [],
   "source": [
    "plt.spy(Wpruned, markersize=1)\n",
    "plt.title('Adjacency Matrix W');"
   ]
  }
 ],
 "metadata": {
  "kernelspec": {
   "display_name": "Python [default]",
   "language": "python",
   "name": "python3"
  },
  "language_info": {
   "codemirror_mode": {
    "name": "ipython",
    "version": 3
   },
   "file_extension": ".py",
   "mimetype": "text/x-python",
   "name": "python",
   "nbconvert_exporter": "python",
   "pygments_lexer": "ipython3",
   "version": "3.6.2"
  },
  "toc": {
   "nav_menu": {},
   "number_sections": true,
   "sideBar": true,
   "skip_h1_title": false,
   "toc_cell": false,
   "toc_position": {},
   "toc_section_display": "block",
   "toc_window_display": false
  },
  "varInspector": {
   "cols": {
    "lenName": 16,
    "lenType": 16,
    "lenVar": 40
   },
   "kernels_config": {
    "python": {
     "delete_cmd_postfix": "",
     "delete_cmd_prefix": "del ",
     "library": "var_list.py",
     "varRefreshCmd": "print(var_dic_list())"
    },
    "r": {
     "delete_cmd_postfix": ") ",
     "delete_cmd_prefix": "rm(",
     "library": "var_list.r",
     "varRefreshCmd": "cat(var_dic_list()) "
    }
   },
   "position": {
    "height": "515px",
    "left": "560px",
    "right": "20px",
    "top": "120px",
    "width": "350px"
   },
   "types_to_exclude": [
    "module",
    "function",
    "builtin_function_or_method",
    "instance",
    "_Feature"
   ],
   "window_display": false
  }
 },
 "nbformat": 4,
 "nbformat_minor": 1
}
